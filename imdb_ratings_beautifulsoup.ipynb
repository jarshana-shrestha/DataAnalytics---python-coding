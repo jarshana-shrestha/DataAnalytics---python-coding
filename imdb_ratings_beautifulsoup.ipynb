{
 "cells": [
  {
   "cell_type": "code",
   "execution_count": 1,
   "id": "d08ffb1e-7632-445c-b19b-1156d6994b17",
   "metadata": {},
   "outputs": [],
   "source": [
    "# Import the libraries\n",
    "import requests                  # For making HTTP requests\n",
    "from bs4 import BeautifulSoup     # For parsing HTML content\n",
    "import pandas as pd           # For creating, storing and manipulating DataFrames\n",
    "import json"
   ]
  },
  {
   "cell_type": "markdown",
   "id": "59c29cfa-c244-4c7a-8b3b-5c2a19457334",
   "metadata": {},
   "source": [
    "### Send Request"
   ]
  },
  {
   "cell_type": "code",
   "execution_count": 2,
   "id": "87365d2a-2160-40d5-ae5e-3dcd9a4c85bd",
   "metadata": {},
   "outputs": [
    {
     "name": "stdout",
     "output_type": "stream",
     "text": [
      "Successfully fetched the page!\n"
     ]
    }
   ],
   "source": [
    "# Define the URL\n",
    "url = \"https://www.imdb.com/list/ls095374765/\"\n",
    "\n",
    "# Get the request\n",
    "response= requests.get(url)\n",
    "\n",
    "# Set headers to mimic a browser request\n",
    "headers = {\n",
    "     'User-Agent': 'Mozilla/5.0 (Windows NT 10.0; Win64; x64) AppleWebKit/537.36 (KHTML, like Gecko) Chrome/134.0.0.0 Safari/537.36'\n",
    "}\n",
    "\n",
    "# Send an HTTP GET request to fetch the page content with headers\n",
    "response = requests.get(url, headers=headers)\n",
    "\n",
    "# Check if the request was successful\n",
    "if response.status_code == 200:\n",
    "    print(\"Successfully fetched the page!\")\n",
    "else:\n",
    "    print(f\"Failed to retrieve the page. Status code: {response.status_code}\")"
   ]
  },
  {
   "cell_type": "markdown",
   "id": "7407f346-17c2-487a-b375-43153cd0716a",
   "metadata": {},
   "source": [
    "### Parse the HTML Content"
   ]
  },
  {
   "cell_type": "code",
   "execution_count": 4,
   "id": "42d2900e-02a3-430b-9976-2091fd203405",
   "metadata": {},
   "outputs": [
    {
     "name": "stdout",
     "output_type": "stream",
     "text": [
      "<!DOCTYPE html>\n",
      "<html lang=\"en-US\" xmlns:fb=\"http://www.facebook.com/2008/fbml\" xmlns:og=\"http://opengraphprotocol.org/schema/\">\n",
      " <head>\n",
      "  <meta charset=\"utf-8\"/>\n",
      "  <meta content=\"width=device-width\" name=\"viewport\"/>\n",
      "  <script>\n",
      "   if(typeof uet === 'function'){ uet('bb', 'LoadTitle', {wb: 1}); }\n",
      "  </script>\n",
      "  <script>\n",
      "   window.addEventListener('load', (event) => {\n",
      "        if (typeof window.csa !== 'undefined' && typeof window.csa === 'function') {\n",
      "            var csaLatencyPlugin = window.csa('Content', {\n",
      "                element: {\n",
      "                    slotId: 'LoadTitle',\n",
      "                    type: 'service-call'\n",
      "                }\n",
      "            });\n",
      "            csaLatencyPlugin('mark', 'clickToBodyBegin', 1742318719679);\n",
      "        }\n",
      "    })\n",
      "  </script>\n",
      "  <title>\n",
      "   Movie Reviews\n",
      "  </title>\n",
      "  <meta content=\"\" data-id=\"main\" name=\"description\"/>\n",
      "  <meta content=\"max-image-preview:large\" name=\"robots\"/>\n",
      "  <script type=\"application/ld+json\">\n",
      "   {\"@type\":\"ItemList\",\"itemListElement\":[{\"@type\":\"ListItem\",\"item\":{\"@type\":\"Movie\",\"url\":\"https://www.imdb.com/title/tt6139732/\",\"name\":\"Aladdin\",\"description\":\"Aladdin, a kind thief, woos Jasmine, the princess of Agrabah, with the help of Genie. When Jafar, the grand vizier, tries to usurp the king, Jasmine, Aladdin and Genie must stop him from succeeding.\",\"image\":\"https://m.media-amazon.com/images/M/MV5BMjQ2ODIyMjY4MF5BMl5BanBnXkFtZTgwNzY4ODI2NzM@._V1_.jpg\",\"aggregateRating\":{\"@type\":\"AggregateRating\",\"bestRating\":10,\"worstRating\":1,\"ratingValue\":6.9,\"ratingCount\":300939},\"contentRating\":\"PG\",\"genre\":\"Adventure, Comedy, Family\",\"duration\":\"PT2H8M\"}},{\"@type\":\"ListItem\",\"item\":{\"@type\":\"Movie\",\"url\":\"https://www.imdb.com/title/tt7349950/\",\"name\":\"It Chapter Two\",\"description\":\"Twenty-seven years after their first encounter with the terrifying Pennywise, the Losers Club have grown up and moved away, until a devastating phone call brings them back.\",\"image\":\"https://m.media-amazon.com/images/M/MV5BYzUxM2VhOGItZTY2My00OTA4LWI4NjUtMDA5Y\n"
     ]
    }
   ],
   "source": [
    "#Parse the HTML content using Beautiful Soup\n",
    "soup = BeautifulSoup(response.content, 'html.parser')\n",
    "\n",
    "#Print the Parsed HTML to verify\n",
    "print(soup.prettify()[:2000]) #readable format"
   ]
  },
  {
   "cell_type": "markdown",
   "id": "4bf7ea7d-cd93-4008-8d71-864d797f6bb7",
   "metadata": {},
   "source": [
    "### Extract the movie details"
   ]
  },
  {
   "cell_type": "code",
   "execution_count": 5,
   "id": "9bb89b6d-de9e-46c2-810f-fab02d7c47a0",
   "metadata": {},
   "outputs": [],
   "source": [
    "# Find the JSON-LD script tag\n",
    "json_data = soup.find('script', type='application/ld+json')\n",
    "\n",
    "if json_data:    # Parse the JSON data\n",
    "    data = json.loads(json_data.string) "
   ]
  },
  {
   "cell_type": "code",
   "execution_count": 9,
   "id": "ddc33210-f379-4397-921e-0e7e31149094",
   "metadata": {},
   "outputs": [],
   "source": [
    "# Extract titles and ratings\n",
    "titles = [] \n",
    "descriptions = []\n",
    "ratings = []\n",
    "durations = []\n"
   ]
  },
  {
   "cell_type": "markdown",
   "id": "76c58ea9-92b2-4eae-a71b-00e320a355ab",
   "metadata": {},
   "source": [
    "Movies came out to be empty. In this situation, we need to try and identify how each element has been stored."
   ]
  },
  {
   "cell_type": "code",
   "execution_count": 10,
   "id": "45576598-4c49-4979-8c54-f405b6df56b2",
   "metadata": {},
   "outputs": [],
   "source": [
    "# Check if the data contains the expected structure\n",
    "if 'itemListElement' in data:\n",
    "    for item in data['itemListElement']:\n",
    "        movie = item['item']\n",
    "        \n",
    "# Extract movie details\n",
    "        titles.append(movie['name'])  # Movie name\n",
    "        descriptions.append(movie['description'])  # Movie description\n",
    "        ratings.append(float(movie['aggregateRating']['ratingValue'])) # Rating value\n",
    "        durations.append(movie['duration']) # Movie duration"
   ]
  },
  {
   "cell_type": "code",
   "execution_count": 11,
   "id": "25cc0b1a-e0ed-4858-ae3b-cfc16e5cbb31",
   "metadata": {},
   "outputs": [],
   "source": [
    "# Create a DataFrame to store the scraped data\n",
    "df = pd.DataFrame({\n",
    "    'Title': titles,\n",
    "    'Description': descriptions,\n",
    "    'Rating': ratings,\n",
    "    'Duration': durations\n",
    " })"
   ]
  },
  {
   "cell_type": "code",
   "execution_count": 12,
   "id": "d6ffb546-46f8-42a4-8bfe-c07c7fd693b0",
   "metadata": {},
   "outputs": [
    {
     "data": {
      "text/html": [
       "<div>\n",
       "<style scoped>\n",
       "    .dataframe tbody tr th:only-of-type {\n",
       "        vertical-align: middle;\n",
       "    }\n",
       "\n",
       "    .dataframe tbody tr th {\n",
       "        vertical-align: top;\n",
       "    }\n",
       "\n",
       "    .dataframe thead th {\n",
       "        text-align: right;\n",
       "    }\n",
       "</style>\n",
       "<table border=\"1\" class=\"dataframe\">\n",
       "  <thead>\n",
       "    <tr style=\"text-align: right;\">\n",
       "      <th></th>\n",
       "      <th>Title</th>\n",
       "      <th>Description</th>\n",
       "      <th>Rating</th>\n",
       "      <th>Duration</th>\n",
       "    </tr>\n",
       "  </thead>\n",
       "  <tbody>\n",
       "    <tr>\n",
       "      <th>0</th>\n",
       "      <td>Aladdin</td>\n",
       "      <td>Aladdin, a kind thief, woos Jasmine, the princ...</td>\n",
       "      <td>6.9</td>\n",
       "      <td>PT2H8M</td>\n",
       "    </tr>\n",
       "    <tr>\n",
       "      <th>1</th>\n",
       "      <td>It Chapter Two</td>\n",
       "      <td>Twenty-seven years after their first encounter...</td>\n",
       "      <td>6.5</td>\n",
       "      <td>PT2H49M</td>\n",
       "    </tr>\n",
       "    <tr>\n",
       "      <th>2</th>\n",
       "      <td>Joker</td>\n",
       "      <td>Arthur Fleck, a party clown and a failed stand...</td>\n",
       "      <td>8.3</td>\n",
       "      <td>PT2H2M</td>\n",
       "    </tr>\n",
       "    <tr>\n",
       "      <th>3</th>\n",
       "      <td>Dolemite Is My Name</td>\n",
       "      <td>Eddie Murphy portrays real-life legend Rudy Ra...</td>\n",
       "      <td>7.2</td>\n",
       "      <td>PT1H58M</td>\n",
       "    </tr>\n",
       "    <tr>\n",
       "      <th>4</th>\n",
       "      <td>Anna</td>\n",
       "      <td>Beneath Anna Poliatova&amp;apos;s striking beauty ...</td>\n",
       "      <td>6.7</td>\n",
       "      <td>PT1H58M</td>\n",
       "    </tr>\n",
       "  </tbody>\n",
       "</table>\n",
       "</div>"
      ],
      "text/plain": [
       "                 Title                                        Description  \\\n",
       "0              Aladdin  Aladdin, a kind thief, woos Jasmine, the princ...   \n",
       "1       It Chapter Two  Twenty-seven years after their first encounter...   \n",
       "2                Joker  Arthur Fleck, a party clown and a failed stand...   \n",
       "3  Dolemite Is My Name  Eddie Murphy portrays real-life legend Rudy Ra...   \n",
       "4                 Anna  Beneath Anna Poliatova&apos;s striking beauty ...   \n",
       "\n",
       "   Rating Duration  \n",
       "0     6.9   PT2H8M  \n",
       "1     6.5  PT2H49M  \n",
       "2     8.3   PT2H2M  \n",
       "3     7.2  PT1H58M  \n",
       "4     6.7  PT1H58M  "
      ]
     },
     "execution_count": 12,
     "metadata": {},
     "output_type": "execute_result"
    }
   ],
   "source": [
    "df.head()"
   ]
  },
  {
   "cell_type": "markdown",
   "id": "cdadeb37-af35-4254-b876-968cbef6d487",
   "metadata": {},
   "source": [
    "### Data Filtering and Cleaning"
   ]
  },
  {
   "cell_type": "code",
   "execution_count": 91,
   "id": "50af5b66-36b3-41db-a32b-1cc07cfd5057",
   "metadata": {},
   "outputs": [
    {
     "name": "stdout",
     "output_type": "stream",
     "text": [
      "<class 'pandas.core.frame.DataFrame'>\n",
      "RangeIndex: 250 entries, 0 to 249\n",
      "Data columns (total 4 columns):\n",
      " #   Column       Non-Null Count  Dtype  \n",
      "---  ------       --------------  -----  \n",
      " 0   Title        250 non-null    object \n",
      " 1   Description  250 non-null    object \n",
      " 2   Rating       250 non-null    float64\n",
      " 3   Duration     250 non-null    object \n",
      "dtypes: float64(1), object(3)\n",
      "memory usage: 7.9+ KB\n",
      "None\n"
     ]
    }
   ],
   "source": [
    "# Display basic info about the DataFrame\n",
    "print(df.info())"
   ]
  },
  {
   "cell_type": "code",
   "execution_count": 92,
   "id": "66bfb833-fa29-4e21-bf31-0f4d230755c7",
   "metadata": {},
   "outputs": [
    {
     "name": "stdout",
     "output_type": "stream",
     "text": [
      "\n",
      "Missing Values:\n",
      "Title          0\n",
      "Description    0\n",
      "Rating         0\n",
      "Duration       0\n",
      "dtype: int64\n"
     ]
    }
   ],
   "source": [
    "# Check for null values\n",
    "print(\"\\nMissing Values:\")\n",
    "print(df.isnull().sum())"
   ]
  },
  {
   "cell_type": "code",
   "execution_count": 13,
   "id": "a2875187-4881-40a5-b9f1-5c673f3fc213",
   "metadata": {},
   "outputs": [
    {
     "name": "stdout",
     "output_type": "stream",
     "text": [
      "\n",
      "Duplicate Rows Before: 1\n",
      "Duplicate Rows After: 0\n"
     ]
    }
   ],
   "source": [
    "# Check for duplicates and remove them\n",
    "print(\"\\nDuplicate Rows Before:\", df.duplicated().sum())\n",
    "df.drop_duplicates(inplace=True)\n",
    "print(\"Duplicate Rows After:\", df.duplicated().sum())"
   ]
  },
  {
   "cell_type": "code",
   "execution_count": 15,
   "id": "448d16d5-b3cf-4185-bb68-1a8fc10a6821",
   "metadata": {},
   "outputs": [
    {
     "name": "stdout",
     "output_type": "stream",
     "text": [
      "\n",
      "Sample Data:\n",
      "                        Title  \\\n",
      "47      Death Race 3: Inferno   \n",
      "246  Batman: The Killing Joke   \n",
      "197           Too Big to Fail   \n",
      "199            Into the Storm   \n",
      "217            V for Vendetta   \n",
      "\n",
      "                                           Description  Rating Duration  \n",
      "47   Convicted cop-killer Carl Lucas, a.k.a. Franke...     5.4  PT1H44M  \n",
      "246  As Batman hunts for the escaped Joker, the Clo...     6.4  PT1H16M  \n",
      "197  Chronicles the financial meltdown of 2008 and ...     7.2  PT1H39M  \n",
      "199  Continuing the storyline of The Gathering Stor...     7.0  PT1H39M  \n",
      "217  In a future British dystopian society, a shado...     8.1  PT2H12M  \n"
     ]
    }
   ],
   "source": [
    "# Display some sample data\n",
    "print(\"\\nSample Data:\")\n",
    "print(df.sample(5))"
   ]
  },
  {
   "cell_type": "code",
   "execution_count": 16,
   "id": "146dc7b9-03d7-4919-82f7-31bb76ef3d67",
   "metadata": {},
   "outputs": [],
   "source": [
    "# Save the DataFrame to a CSV file\n",
    "df.to_csv('topIMBDmovies.csv', index=False) # Setting index=False"
   ]
  },
  {
   "cell_type": "code",
   "execution_count": 17,
   "id": "634fa4a7-fea6-4f46-8858-35b17f8d598b",
   "metadata": {},
   "outputs": [
    {
     "name": "stdout",
     "output_type": "stream",
     "text": [
      "\n",
      "Highly Rated Movies:\n",
      "                                         Title  \\\n",
      "2                                        Joker   \n",
      "3                          Dolemite Is My Name   \n",
      "6                                     Deadwood   \n",
      "7                          The Ron Clark Story   \n",
      "8                           Colorado Territory   \n",
      "..                                         ...   \n",
      "217                             V for Vendetta   \n",
      "218                                   Hercules   \n",
      "220                                   The Crow   \n",
      "231                   Deadpool &amp; Wolverine   \n",
      "232  Shang-Chi and the Legend of the Ten Rings   \n",
      "\n",
      "                                           Description  Rating Duration  \n",
      "2    Arthur Fleck, a party clown and a failed stand...     8.3   PT2H2M  \n",
      "3    Eddie Murphy portrays real-life legend Rudy Ra...     7.2  PT1H58M  \n",
      "6    As the residents of Deadwood gather to commemo...     7.3  PT1H50M  \n",
      "7    A small-town teacher relocates to one of the c...     7.6  PT1H30M  \n",
      "8    Outlaw Wes McQueen escapes jail to pull a rail...     7.2  PT1H34M  \n",
      "..                                                 ...     ...      ...  \n",
      "217  In a future British dystopian society, a shado...     8.1  PT2H12M  \n",
      "218  The son of Zeus and Hera is stripped of his im...     7.3  PT1H33M  \n",
      "220  The night before his wedding, musician Eric Dr...     7.5  PT1H42M  \n",
      "231  Deadpool is offered a place in the Marvel Cine...     7.6   PT2H8M  \n",
      "232  Shang-Chi, the master of weaponry-based Kung F...     7.3  PT2H12M  \n",
      "\n",
      "[68 rows x 4 columns]\n"
     ]
    }
   ],
   "source": [
    "# Filter: Show only movies with a rating above 9\n",
    "high_rated_movies = df[df['Rating']>7 ]\n",
    "print(\"\\nHighly Rated Movies:\")\n",
    "print(high_rated_movies)"
   ]
  },
  {
   "cell_type": "code",
   "execution_count": null,
   "id": "12c66988-7c76-4d40-b4b3-6e9e649055ff",
   "metadata": {},
   "outputs": [],
   "source": []
  }
 ],
 "metadata": {
  "kernelspec": {
   "display_name": "Python 3 (ipykernel)",
   "language": "python",
   "name": "python3"
  },
  "language_info": {
   "codemirror_mode": {
    "name": "ipython",
    "version": 3
   },
   "file_extension": ".py",
   "mimetype": "text/x-python",
   "name": "python",
   "nbconvert_exporter": "python",
   "pygments_lexer": "ipython3",
   "version": "3.11.7"
  }
 },
 "nbformat": 4,
 "nbformat_minor": 5
}
