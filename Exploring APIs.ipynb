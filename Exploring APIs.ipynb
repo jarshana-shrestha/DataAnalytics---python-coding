{
 "cells": [
  {
   "cell_type": "code",
   "execution_count": 4,
   "id": "e9309c6a-fe17-4403-9392-b927061059bd",
   "metadata": {},
   "outputs": [
    {
     "data": {
      "text/plain": [
       "<Response [403]>"
      ]
     },
     "execution_count": 4,
     "metadata": {},
     "output_type": "execute_result"
    }
   ],
   "source": [
    "import requests\n",
    "import pandas as pd\n",
    "url = \"https://www.imdb.com/india/top-rated-indian-movies/\"\n",
    "\n",
    "response = requests.get(url)\n",
    "response"
   ]
  },
  {
   "cell_type": "code",
   "execution_count": 3,
   "id": "ca1d29a3-028f-4350-b700-fd248f33ecca",
   "metadata": {},
   "outputs": [
    {
     "data": {
      "text/html": [
       "<div>\n",
       "<style scoped>\n",
       "    .dataframe tbody tr th:only-of-type {\n",
       "        vertical-align: middle;\n",
       "    }\n",
       "\n",
       "    .dataframe tbody tr th {\n",
       "        vertical-align: top;\n",
       "    }\n",
       "\n",
       "    .dataframe thead th {\n",
       "        text-align: right;\n",
       "    }\n",
       "</style>\n",
       "<table border=\"1\" class=\"dataframe\">\n",
       "  <thead>\n",
       "    <tr style=\"text-align: right;\">\n",
       "      <th></th>\n",
       "      <th>0</th>\n",
       "    </tr>\n",
       "  </thead>\n",
       "  <tbody>\n",
       "    <tr>\n",
       "      <th>0</th>\n",
       "      <td>b'&lt;!doctype html&gt;&lt;html itemscope=\"\" itemtype=\"...</td>\n",
       "    </tr>\n",
       "    <tr>\n",
       "      <th>1</th>\n",
       "      <td>b\"tion, including webpages, images, videos and...</td>\n",
       "    </tr>\n",
       "    <tr>\n",
       "      <th>2</th>\n",
       "      <td>b' for.\" name=\"description\"&gt;&lt;meta content=\"noo...</td>\n",
       "    </tr>\n",
       "    <tr>\n",
       "      <th>3</th>\n",
       "      <td>b'e\"&gt;&lt;meta content=\"/images/branding/googleg/1...</td>\n",
       "    </tr>\n",
       "    <tr>\n",
       "      <th>4</th>\n",
       "      <td>b'nce=\"hu3eEZ8iEZQC2VBQtnai2g\"&gt;(function(){var...</td>\n",
       "    </tr>\n",
       "    <tr>\n",
       "      <th>5</th>\n",
       "      <td>b'61,17988,54501,6397,9708,344796,290044,52417...</td>\n",
       "    </tr>\n",
       "    <tr>\n",
       "      <th>6</th>\n",
       "      <td>b'7,2660,3434,3319,23878,9140,4599,328,6225,34...</td>\n",
       "    </tr>\n",
       "    <tr>\n",
       "      <th>7</th>\n",
       "      <td>b',2821,6779,8341,41,13164,475,1,6741,2847,125...</td>\n",
       "    </tr>\n",
       "    <tr>\n",
       "      <th>8</th>\n",
       "      <td>b'27,676,958,3261,459,2196,335,28,7,1,1293,212...</td>\n",
       "    </tr>\n",
       "    <tr>\n",
       "      <th>9</th>\n",
       "      <td>b',576,151,275,1,1398,1294,660,183,1152,1861,1...</td>\n",
       "    </tr>\n",
       "  </tbody>\n",
       "</table>\n",
       "</div>"
      ],
      "text/plain": [
       "                                                   0\n",
       "0  b'<!doctype html><html itemscope=\"\" itemtype=\"...\n",
       "1  b\"tion, including webpages, images, videos and...\n",
       "2  b' for.\" name=\"description\"><meta content=\"noo...\n",
       "3  b'e\"><meta content=\"/images/branding/googleg/1...\n",
       "4  b'nce=\"hu3eEZ8iEZQC2VBQtnai2g\">(function(){var...\n",
       "5  b'61,17988,54501,6397,9708,344796,290044,52417...\n",
       "6  b'7,2660,3434,3319,23878,9140,4599,328,6225,34...\n",
       "7  b',2821,6779,8341,41,13164,475,1,6741,2847,125...\n",
       "8  b'27,676,958,3261,459,2196,335,28,7,1,1293,212...\n",
       "9  b',576,151,275,1,1398,1294,660,183,1152,1861,1..."
      ]
     },
     "execution_count": 3,
     "metadata": {},
     "output_type": "execute_result"
    }
   ],
   "source": [
    "df = pd.DataFrame(response)\n",
    "df.head(10)"
   ]
  },
  {
   "cell_type": "code",
   "execution_count": null,
   "id": "c774185d-43db-4758-aa45-2df2602bae0f",
   "metadata": {},
   "outputs": [],
   "source": []
  }
 ],
 "metadata": {
  "kernelspec": {
   "display_name": "Python 3 (ipykernel)",
   "language": "python",
   "name": "python3"
  },
  "language_info": {
   "codemirror_mode": {
    "name": "ipython",
    "version": 3
   },
   "file_extension": ".py",
   "mimetype": "text/x-python",
   "name": "python",
   "nbconvert_exporter": "python",
   "pygments_lexer": "ipython3",
   "version": "3.11.7"
  }
 },
 "nbformat": 4,
 "nbformat_minor": 5
}
