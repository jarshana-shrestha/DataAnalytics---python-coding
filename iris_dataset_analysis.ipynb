{
 "cells": [
  {
   "cell_type": "code",
   "execution_count": 1,
   "id": "0eec8c48-7754-46d2-a885-a5d2be42f87c",
   "metadata": {},
   "outputs": [],
   "source": [
    "import numpy as np\n",
    "import pandas as pd"
   ]
  },
  {
   "cell_type": "code",
   "execution_count": 2,
   "id": "f8705363-15ea-4b73-8932-2078175cca82",
   "metadata": {},
   "outputs": [],
   "source": [
    "# Load the dataset\n",
    "df = pd.read_csv('Iris.csv')"
   ]
  },
  {
   "cell_type": "code",
   "execution_count": 3,
   "id": "5b84e705-f8cc-49f6-85aa-c27f1ba1579d",
   "metadata": {},
   "outputs": [
    {
     "name": "stdout",
     "output_type": "stream",
     "text": [
      "   Id  SepalLengthCm  SepalWidthCm  PetalLengthCm  PetalWidthCm      Species\n",
      "0   1            5.1           3.5            1.4           0.2  Iris-setosa\n",
      "1   2            4.9           3.0            1.4           0.2  Iris-setosa\n",
      "2   3            4.7           3.2            1.3           0.2  Iris-setosa\n",
      "3   4            4.6           3.1            1.5           0.2  Iris-setosa\n",
      "4   5            5.0           3.6            1.4           0.2  Iris-setosa\n"
     ]
    }
   ],
   "source": [
    "# Display the first 5 rows of the DataFrame\n",
    " \n",
    "print(df.head(5)) "
   ]
  },
  {
   "cell_type": "code",
   "execution_count": 4,
   "id": "9cc84b08-1973-4368-b94f-a85e4a2efd4f",
   "metadata": {},
   "outputs": [
    {
     "name": "stdout",
     "output_type": "stream",
     "text": [
      "<class 'pandas.core.frame.DataFrame'>\n",
      "RangeIndex: 150 entries, 0 to 149\n",
      "Data columns (total 6 columns):\n",
      " #   Column         Non-Null Count  Dtype  \n",
      "---  ------         --------------  -----  \n",
      " 0   Id             150 non-null    int64  \n",
      " 1   SepalLengthCm  150 non-null    float64\n",
      " 2   SepalWidthCm   150 non-null    float64\n",
      " 3   PetalLengthCm  150 non-null    float64\n",
      " 4   PetalWidthCm   150 non-null    float64\n",
      " 5   Species        150 non-null    object \n",
      "dtypes: float64(4), int64(1), object(1)\n",
      "memory usage: 7.2+ KB\n",
      "None\n"
     ]
    }
   ],
   "source": [
    "# Display summary information about the DataFrame\n",
    "print(df.info()) "
   ]
  },
  {
   "cell_type": "markdown",
   "id": "5be5ab27-a874-4b33-a8f1-8495cd499b8a",
   "metadata": {},
   "source": [
    "### Selecting Data"
   ]
  },
  {
   "cell_type": "code",
   "execution_count": 5,
   "id": "be14f36a-bf8d-4679-b6f0-4c1ef0a71361",
   "metadata": {},
   "outputs": [
    {
     "data": {
      "text/plain": [
       "0         Iris-setosa\n",
       "1         Iris-setosa\n",
       "2         Iris-setosa\n",
       "3         Iris-setosa\n",
       "4         Iris-setosa\n",
       "            ...      \n",
       "145    Iris-virginica\n",
       "146    Iris-virginica\n",
       "147    Iris-virginica\n",
       "148    Iris-virginica\n",
       "149    Iris-virginica\n",
       "Name: Species, Length: 150, dtype: object"
      ]
     },
     "execution_count": 5,
     "metadata": {},
     "output_type": "execute_result"
    }
   ],
   "source": [
    " # Access a specific column\n",
    " column_data = df['Species']  \n",
    " column_data"
   ]
  },
  {
   "cell_type": "code",
   "execution_count": 10,
   "id": "c28d1e89-8217-4124-b368-1ed7012abbd1",
   "metadata": {},
   "outputs": [
    {
     "name": "stdout",
     "output_type": "stream",
     "text": [
      "      Id  SepalLengthCm  SepalWidthCm  PetalLengthCm  PetalWidthCm  \\\n",
      "1      2            4.9           3.0            1.4           0.2   \n",
      "2      3            4.7           3.2            1.3           0.2   \n",
      "3      4            4.6           3.1            1.5           0.2   \n",
      "6      7            4.6           3.4            1.4           0.3   \n",
      "8      9            4.4           2.9            1.4           0.2   \n",
      "9     10            4.9           3.1            1.5           0.1   \n",
      "11    12            4.8           3.4            1.6           0.2   \n",
      "12    13            4.8           3.0            1.4           0.1   \n",
      "13    14            4.3           3.0            1.1           0.1   \n",
      "22    23            4.6           3.6            1.0           0.2   \n",
      "24    25            4.8           3.4            1.9           0.2   \n",
      "29    30            4.7           3.2            1.6           0.2   \n",
      "30    31            4.8           3.1            1.6           0.2   \n",
      "34    35            4.9           3.1            1.5           0.1   \n",
      "37    38            4.9           3.1            1.5           0.1   \n",
      "38    39            4.4           3.0            1.3           0.2   \n",
      "41    42            4.5           2.3            1.3           0.3   \n",
      "42    43            4.4           3.2            1.3           0.2   \n",
      "45    46            4.8           3.0            1.4           0.3   \n",
      "47    48            4.6           3.2            1.4           0.2   \n",
      "57    58            4.9           2.4            3.3           1.0   \n",
      "106  107            4.9           2.5            4.5           1.7   \n",
      "\n",
      "             Species  \n",
      "1        Iris-setosa  \n",
      "2        Iris-setosa  \n",
      "3        Iris-setosa  \n",
      "6        Iris-setosa  \n",
      "8        Iris-setosa  \n",
      "9        Iris-setosa  \n",
      "11       Iris-setosa  \n",
      "12       Iris-setosa  \n",
      "13       Iris-setosa  \n",
      "22       Iris-setosa  \n",
      "24       Iris-setosa  \n",
      "29       Iris-setosa  \n",
      "30       Iris-setosa  \n",
      "34       Iris-setosa  \n",
      "37       Iris-setosa  \n",
      "38       Iris-setosa  \n",
      "41       Iris-setosa  \n",
      "42       Iris-setosa  \n",
      "45       Iris-setosa  \n",
      "47       Iris-setosa  \n",
      "57   Iris-versicolor  \n",
      "106   Iris-virginica  \n"
     ]
    }
   ],
   "source": [
    "# filtering Data\n",
    "# Filter rows where SepalLength is less than 5.0\n",
    "\n",
    "filtered_data = df[df['SepalLengthCm'] < 5.0]  \n",
    "print(filtered_data)"
   ]
  },
  {
   "cell_type": "markdown",
   "id": "709dc4fc-3736-48f1-a9b8-b5b3afba36c9",
   "metadata": {},
   "source": [
    "###  Filter Based on Multiple Conditions"
   ]
  },
  {
   "cell_type": "code",
   "execution_count": 11,
   "id": "740ce442-462d-47f8-b5be-60a533658628",
   "metadata": {},
   "outputs": [
    {
     "name": "stdout",
     "output_type": "stream",
     "text": [
      "      Id  SepalLengthCm  SepalWidthCm  PetalLengthCm  PetalWidthCm  \\\n",
      "0      1            5.1           3.5            1.4           0.2   \n",
      "5      6            5.4           3.9            1.7           0.4   \n",
      "10    11            5.4           3.7            1.5           0.2   \n",
      "14    15            5.8           4.0            1.2           0.2   \n",
      "15    16            5.7           4.4            1.5           0.4   \n",
      "16    17            5.4           3.9            1.3           0.4   \n",
      "17    18            5.1           3.5            1.4           0.3   \n",
      "18    19            5.7           3.8            1.7           0.3   \n",
      "19    20            5.1           3.8            1.5           0.3   \n",
      "20    21            5.4           3.4            1.7           0.2   \n",
      "21    22            5.1           3.7            1.5           0.4   \n",
      "23    24            5.1           3.3            1.7           0.5   \n",
      "27    28            5.2           3.5            1.5           0.2   \n",
      "28    29            5.2           3.4            1.4           0.2   \n",
      "31    32            5.4           3.4            1.5           0.4   \n",
      "32    33            5.2           4.1            1.5           0.1   \n",
      "33    34            5.5           4.2            1.4           0.2   \n",
      "36    37            5.5           3.5            1.3           0.2   \n",
      "39    40            5.1           3.4            1.5           0.2   \n",
      "44    45            5.1           3.8            1.9           0.4   \n",
      "46    47            5.1           3.8            1.6           0.2   \n",
      "48    49            5.3           3.7            1.5           0.2   \n",
      "50    51            7.0           3.2            4.7           1.4   \n",
      "53    54            5.5           2.3            4.0           1.3   \n",
      "55    56            5.7           2.8            4.5           1.3   \n",
      "58    59            6.6           2.9            4.6           1.3   \n",
      "59    60            5.2           2.7            3.9           1.4   \n",
      "62    63            6.0           2.2            4.0           1.0   \n",
      "63    64            6.1           2.9            4.7           1.4   \n",
      "64    65            5.6           2.9            3.6           1.3   \n",
      "65    66            6.7           3.1            4.4           1.4   \n",
      "67    68            5.8           2.7            4.1           1.0   \n",
      "69    70            5.6           2.5            3.9           1.1   \n",
      "71    72            6.1           2.8            4.0           1.3   \n",
      "73    74            6.1           2.8            4.7           1.2   \n",
      "74    75            6.4           2.9            4.3           1.3   \n",
      "75    76            6.6           3.0            4.4           1.4   \n",
      "76    77            6.8           2.8            4.8           1.4   \n",
      "79    80            5.7           2.6            3.5           1.0   \n",
      "80    81            5.5           2.4            3.8           1.1   \n",
      "81    82            5.5           2.4            3.7           1.0   \n",
      "82    83            5.8           2.7            3.9           1.2   \n",
      "87    88            6.3           2.3            4.4           1.3   \n",
      "88    89            5.6           3.0            4.1           1.3   \n",
      "89    90            5.5           2.5            4.0           1.3   \n",
      "90    91            5.5           2.6            4.4           1.2   \n",
      "91    92            6.1           3.0            4.6           1.4   \n",
      "92    93            5.8           2.6            4.0           1.2   \n",
      "94    95            5.6           2.7            4.2           1.3   \n",
      "95    96            5.7           3.0            4.2           1.2   \n",
      "96    97            5.7           2.9            4.2           1.3   \n",
      "97    98            6.2           2.9            4.3           1.3   \n",
      "98    99            5.1           2.5            3.0           1.1   \n",
      "99   100            5.7           2.8            4.1           1.3   \n",
      "134  135            6.1           2.6            5.6           1.4   \n",
      "\n",
      "             Species  \n",
      "0        Iris-setosa  \n",
      "5        Iris-setosa  \n",
      "10       Iris-setosa  \n",
      "14       Iris-setosa  \n",
      "15       Iris-setosa  \n",
      "16       Iris-setosa  \n",
      "17       Iris-setosa  \n",
      "18       Iris-setosa  \n",
      "19       Iris-setosa  \n",
      "20       Iris-setosa  \n",
      "21       Iris-setosa  \n",
      "23       Iris-setosa  \n",
      "27       Iris-setosa  \n",
      "28       Iris-setosa  \n",
      "31       Iris-setosa  \n",
      "32       Iris-setosa  \n",
      "33       Iris-setosa  \n",
      "36       Iris-setosa  \n",
      "39       Iris-setosa  \n",
      "44       Iris-setosa  \n",
      "46       Iris-setosa  \n",
      "48       Iris-setosa  \n",
      "50   Iris-versicolor  \n",
      "53   Iris-versicolor  \n",
      "55   Iris-versicolor  \n",
      "58   Iris-versicolor  \n",
      "59   Iris-versicolor  \n",
      "62   Iris-versicolor  \n",
      "63   Iris-versicolor  \n",
      "64   Iris-versicolor  \n",
      "65   Iris-versicolor  \n",
      "67   Iris-versicolor  \n",
      "69   Iris-versicolor  \n",
      "71   Iris-versicolor  \n",
      "73   Iris-versicolor  \n",
      "74   Iris-versicolor  \n",
      "75   Iris-versicolor  \n",
      "76   Iris-versicolor  \n",
      "79   Iris-versicolor  \n",
      "80   Iris-versicolor  \n",
      "81   Iris-versicolor  \n",
      "82   Iris-versicolor  \n",
      "87   Iris-versicolor  \n",
      "88   Iris-versicolor  \n",
      "89   Iris-versicolor  \n",
      "90   Iris-versicolor  \n",
      "91   Iris-versicolor  \n",
      "92   Iris-versicolor  \n",
      "94   Iris-versicolor  \n",
      "95   Iris-versicolor  \n",
      "96   Iris-versicolor  \n",
      "97   Iris-versicolor  \n",
      "98   Iris-versicolor  \n",
      "99   Iris-versicolor  \n",
      "134   Iris-virginica  \n"
     ]
    }
   ],
   "source": [
    "# Filter rows where SepalLength is greater than 5 AND PetalWidth is less than 1.5\n",
    "filtered_data = df[(df['SepalLengthCm'] > 5) & (df['PetalWidthCm'] < 1.5)]\n",
    "print(filtered_data)"
   ]
  },
  {
   "cell_type": "markdown",
   "id": "50e1d81b-a6b5-4ed0-bbbe-1d8590518a32",
   "metadata": {},
   "source": [
    "### Count Unique Values in a Column"
   ]
  },
  {
   "cell_type": "code",
   "execution_count": 12,
   "id": "055eb001-d515-4aab-8c49-a0654b6b5512",
   "metadata": {},
   "outputs": [
    {
     "name": "stdout",
     "output_type": "stream",
     "text": [
      "Species\n",
      "Iris-setosa        50\n",
      "Iris-versicolor    50\n",
      "Iris-virginica     50\n",
      "Name: count, dtype: int64\n"
     ]
    }
   ],
   "source": [
    "# Count the number of unique species\n",
    "print(df['Species'].value_counts())"
   ]
  },
  {
   "cell_type": "markdown",
   "id": "056eb2b6-63f6-4b0e-925f-24bb3f13abb7",
   "metadata": {},
   "source": [
    "### Create a New Column (Feature Engineering)"
   ]
  },
  {
   "cell_type": "code",
   "execution_count": 13,
   "id": "3ea73d1d-453e-4ea2-85c1-ef2139e5104d",
   "metadata": {},
   "outputs": [
    {
     "name": "stdout",
     "output_type": "stream",
     "text": [
      "   Id  SepalLengthCm  SepalWidthCm  PetalLengthCm  PetalWidthCm      Species  \\\n",
      "0   1            5.1           3.5            1.4           0.2  Iris-setosa   \n",
      "1   2            4.9           3.0            1.4           0.2  Iris-setosa   \n",
      "2   3            4.7           3.2            1.3           0.2  Iris-setosa   \n",
      "3   4            4.6           3.1            1.5           0.2  Iris-setosa   \n",
      "4   5            5.0           3.6            1.4           0.2  Iris-setosa   \n",
      "\n",
      "   SepalArea  \n",
      "0      17.85  \n",
      "1      14.70  \n",
      "2      15.04  \n",
      "3      14.26  \n",
      "4      18.00  \n"
     ]
    }
   ],
   "source": [
    "# Create a new column for Sepal Area\n",
    "df['SepalArea'] = df['SepalLengthCm'] * df['SepalWidthCm']\n",
    "print(df.head())"
   ]
  },
  {
   "cell_type": "code",
   "execution_count": 14,
   "id": "d40bf7e0-31ba-4b38-a86a-6ac17dfc6b3b",
   "metadata": {},
   "outputs": [
    {
     "name": "stdout",
     "output_type": "stream",
     "text": [
      "      Id  SepalLengthCm  SepalWidthCm  PetalLengthCm  PetalWidthCm  \\\n",
      "131  132            7.9           3.8            6.4           2.0   \n",
      "135  136            7.7           3.0            6.1           2.3   \n",
      "122  123            7.7           2.8            6.7           2.0   \n",
      "117  118            7.7           3.8            6.7           2.2   \n",
      "118  119            7.7           2.6            6.9           2.3   \n",
      "\n",
      "            Species  SepalArea  \n",
      "131  Iris-virginica      30.02  \n",
      "135  Iris-virginica      23.10  \n",
      "122  Iris-virginica      21.56  \n",
      "117  Iris-virginica      29.26  \n",
      "118  Iris-virginica      20.02  \n"
     ]
    }
   ],
   "source": [
    "# Sort by SepalLength in descending order\n",
    "sorted_df = df.sort_values(by='SepalLengthCm', ascending=False)\n",
    "print(sorted_df.head())"
   ]
  },
  {
   "cell_type": "code",
   "execution_count": 15,
   "id": "740e15ea-e0d2-4cd4-818c-e704d05e5cfc",
   "metadata": {},
   "outputs": [
    {
     "name": "stdout",
     "output_type": "stream",
     "text": [
      "                    Id  SepalLengthCm  SepalWidthCm  PetalLengthCm  \\\n",
      "Species                                                              \n",
      "Iris-setosa       25.5          5.006         3.418          1.464   \n",
      "Iris-versicolor   75.5          5.936         2.770          4.260   \n",
      "Iris-virginica   125.5          6.588         2.974          5.552   \n",
      "\n",
      "                 PetalWidthCm  SepalArea  \n",
      "Species                                   \n",
      "Iris-setosa             0.244    17.2088  \n",
      "Iris-versicolor         1.326    16.5262  \n",
      "Iris-virginica          2.026    19.6846  \n"
     ]
    }
   ],
   "source": [
    "# Group by Species and calculate the mean of each numeric column\n",
    "grouped_data = df.groupby('Species').mean()\n",
    "print(grouped_data)"
   ]
  },
  {
   "cell_type": "code",
   "execution_count": null,
   "id": "9f617f00-e46b-43ab-9370-b84644960f31",
   "metadata": {},
   "outputs": [],
   "source": []
  }
 ],
 "metadata": {
  "kernelspec": {
   "display_name": "Python 3 (ipykernel)",
   "language": "python",
   "name": "python3"
  },
  "language_info": {
   "codemirror_mode": {
    "name": "ipython",
    "version": 3
   },
   "file_extension": ".py",
   "mimetype": "text/x-python",
   "name": "python",
   "nbconvert_exporter": "python",
   "pygments_lexer": "ipython3",
   "version": "3.11.7"
  }
 },
 "nbformat": 4,
 "nbformat_minor": 5
}
