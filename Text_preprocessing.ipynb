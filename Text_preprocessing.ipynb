{
 "cells": [
  {
   "cell_type": "code",
   "execution_count": 1,
   "id": "4ce5f560-6c4b-4882-8b42-4516fb097bc0",
   "metadata": {},
   "outputs": [],
   "source": [
    "# Import necessary libraries\n",
    "from nltk.tokenize import word_tokenize # For splitting text into tokens\n",
    "from nltk.corpus import stopwords # For stop word removal\n",
    "from nltk.stem import PorterStemmer # For stemming words\n",
    "from nltk.stem import WordNetLemmatizer # For lemmatizing words\n",
    "from nltk import pos_tag, download # For POS tagging\n",
    "from nltk.corpus import wordnet # For WordNet integration (lemmatization)\n",
    "import re # For special character removal"
   ]
  },
  {
   "cell_type": "code",
   "execution_count": 2,
   "id": "640e4a5d-4da9-4f72-9366-51d94531ca78",
   "metadata": {},
   "outputs": [
    {
     "name": "stderr",
     "output_type": "stream",
     "text": [
      "[nltk_data] Downloading package punkt to C:\\Users\\Jarshana\n",
      "[nltk_data]     Shrestha\\AppData\\Roaming\\nltk_data...\n",
      "[nltk_data]   Package punkt is already up-to-date!\n",
      "[nltk_data] Downloading package stopwords to C:\\Users\\Jarshana\n",
      "[nltk_data]     Shrestha\\AppData\\Roaming\\nltk_data...\n",
      "[nltk_data]   Package stopwords is already up-to-date!\n",
      "[nltk_data] Downloading package wordnet to C:\\Users\\Jarshana\n",
      "[nltk_data]     Shrestha\\AppData\\Roaming\\nltk_data...\n",
      "[nltk_data]   Package wordnet is already up-to-date!\n",
      "[nltk_data] Downloading package averaged_perceptron_tagger to\n",
      "[nltk_data]     C:\\Users\\Jarshana\n",
      "[nltk_data]     Shrestha\\AppData\\Roaming\\nltk_data...\n",
      "[nltk_data]   Unzipping taggers\\averaged_perceptron_tagger.zip.\n"
     ]
    },
    {
     "data": {
      "text/plain": [
       "True"
      ]
     },
     "execution_count": 2,
     "metadata": {},
     "output_type": "execute_result"
    }
   ],
   "source": [
    "# Download necessary datasets\n",
    "download('punkt') # For tokenization\n",
    "download('stopwords') # For accessing stop word list\n",
    "download('wordnet') # For lemmatization support\n",
    "download('averaged_perceptron_tagger') # For POS tagging"
   ]
  },
  {
   "cell_type": "code",
   "execution_count": 14,
   "id": "5891a3b5-6d0f-448c-b1a7-49cf203dd62d",
   "metadata": {},
   "outputs": [],
   "source": [
    "# Sample text examples (students can replace these with their own)\n",
    "text = \"AI is transforming industries rapidly! From healthcare to education, its applications are endless.\""
   ]
  },
  {
   "cell_type": "code",
   "execution_count": 15,
   "id": "34caf149-39d4-4d87-8a28-9806eb0c9542",
   "metadata": {},
   "outputs": [
    {
     "name": "stdout",
     "output_type": "stream",
     "text": [
      "\n",
      "Tokens: ['AI', 'is', 'transforming', 'industries', 'rapidly', '!', 'From', 'healthcare', 'to', 'education', ',', 'its', 'applications', 'are', 'endless', '.']\n"
     ]
    }
   ],
   "source": [
    "# Tokenization - Splitting text into individual words\n",
    "tokens = word_tokenize(text)\n",
    "print(\"\\nTokens:\", tokens)"
   ]
  },
  {
   "cell_type": "code",
   "execution_count": 16,
   "id": "8865d5f6-4308-43c9-b14b-fbc3d2d568fb",
   "metadata": {},
   "outputs": [
    {
     "name": "stdout",
     "output_type": "stream",
     "text": [
      "\n",
      "Tokens After Stop Word Removal: ['AI', 'transforming', 'industries', 'rapidly', '!', 'healthcare', 'education', ',', 'applications', 'endless', '.']\n"
     ]
    }
   ],
   "source": [
    "# Stop Word Removal - Removing common words that add no semantic value\n",
    "stop_words = set(stopwords.words('english')) # Load English stop words\n",
    "\n",
    "tokens_without_stopwords = [word for word in tokens if word.lower() not in stop_words]\n",
    "print(\"\\nTokens After Stop Word Removal:\", tokens_without_stopwords)"
   ]
  },
  {
   "cell_type": "code",
   "execution_count": 17,
   "id": "ac522b8a-a803-4cc5-96dd-8a8ebb08def8",
   "metadata": {},
   "outputs": [
    {
     "name": "stdout",
     "output_type": "stream",
     "text": [
      "\n",
      "Tokens After Special Character Removal: ['AI', 'transforming', 'industries', 'rapidly', 'healthcare', 'education', 'applications', 'endless']\n"
     ]
    }
   ],
   "source": [
    "# Special Character Removal - Removing punctuation or special symbols\n",
    "\n",
    "tokens_cleaned = [re.sub(r'[^\\w\\s]', '', word) for word in tokens_without_stopwords if re.sub(r'[^\\w\\s]', '', word)]\n",
    "\n",
    "print(\"\\nTokens After Special Character Removal:\", tokens_cleaned)"
   ]
  },
  {
   "cell_type": "code",
   "execution_count": 18,
   "id": "afd7dcf8-f266-4995-b11c-7533cb994ad6",
   "metadata": {},
   "outputs": [
    {
     "name": "stdout",
     "output_type": "stream",
     "text": [
      "\n",
      "Stemmed Tokens: ['ai', 'transform', 'industri', 'rapidli', 'healthcar', 'educ', 'applic', 'endless']\n"
     ]
    }
   ],
   "source": [
    "# Stemming - Reducing words to their root forms\n",
    "stemmer = PorterStemmer()\n",
    "stemmed_tokens = [stemmer.stem(word) for word in tokens_cleaned]\n",
    "print(\"\\nStemmed Tokens:\", stemmed_tokens)"
   ]
  },
  {
   "cell_type": "code",
   "execution_count": 19,
   "id": "156d99c4-4625-4b7a-ac64-0f65f0f44a1a",
   "metadata": {},
   "outputs": [],
   "source": [
    "# Lemmatization with POS Tagging - Context-aware word normalization\n",
    "lemmatizer = WordNetLemmatizer()\n",
    "\n",
    "# Helper function to get WordNet POS tag\n",
    "def get_wordnet_pos(word):\n",
    " tag = pos_tag([word])[0][1][0].upper() # Get the first letter of POS tag\n",
    " tag_dict = {\"J\": wordnet.ADJ, \"N\": wordnet.NOUN, \"V\": wordnet.VERB, \"R\": wordnet.ADV}\n",
    " return tag_dict.get(tag, wordnet.NOUN) # Default to noun if tag is not found"
   ]
  },
  {
   "cell_type": "code",
   "execution_count": 20,
   "id": "e6e15c5c-c8d3-4220-ba3f-8e38c50b155c",
   "metadata": {},
   "outputs": [
    {
     "name": "stdout",
     "output_type": "stream",
     "text": [
      "\n",
      "Lemmatized Tokens (with POS): ['AI', 'transform', 'industry', 'rapidly', 'healthcare', 'education', 'application', 'endless']\n"
     ]
    }
   ],
   "source": [
    "# Apply lemmatization\n",
    "lemmatized_tokens = [lemmatizer.lemmatize(word, get_wordnet_pos(word)) for word in tokens_cleaned]\n",
    "\n",
    "print(\"\\nLemmatized Tokens (with POS):\", lemmatized_tokens)"
   ]
  },
  {
   "cell_type": "code",
   "execution_count": 21,
   "id": "76446cb9-f630-4929-896c-08a5bc6758bc",
   "metadata": {},
   "outputs": [
    {
     "name": "stdout",
     "output_type": "stream",
     "text": [
      "\n",
      "**Final Results:**\n",
      "Original Tokens: ['AI', 'is', 'transforming', 'industries', 'rapidly', '!', 'From', 'healthcare', 'to', 'education', ',', 'its', 'applications', 'are', 'endless', '.']\n",
      "Tokens After Stop Word Removal: ['AI', 'transforming', 'industries', 'rapidly', '!', 'healthcare', 'education', ',', 'applications', 'endless', '.']\n",
      "Tokens After Special Character Removal: ['AI', 'transforming', 'industries', 'rapidly', 'healthcare', 'education', 'applications', 'endless']\n",
      "Stemmed Tokens: ['ai', 'transform', 'industri', 'rapidli', 'healthcar', 'educ', 'applic', 'endless']\n",
      "Lemmatized Tokens: ['AI', 'transform', 'industry', 'rapidly', 'healthcare', 'education', 'application', 'endless']\n"
     ]
    }
   ],
   "source": [
    "# Final Reflection\n",
    "print(\"\\n**Final Results:**\")\n",
    "print(\"Original Tokens:\", tokens)\n",
    "print(\"Tokens After Stop Word Removal:\", tokens_without_stopwords)\n",
    "print(\"Tokens After Special Character Removal:\", tokens_cleaned)\n",
    "print(\"Stemmed Tokens:\", stemmed_tokens)\n",
    "print(\"Lemmatized Tokens:\", lemmatized_tokens)"
   ]
  },
  {
   "cell_type": "markdown",
   "id": "ca222298-e10a-4a5b-885c-3d8931d0f6b4",
   "metadata": {},
   "source": [
    "____________________"
   ]
  },
  {
   "cell_type": "code",
   "execution_count": 22,
   "id": "cde2e70d-5d29-40d5-818b-513f8bd772e1",
   "metadata": {},
   "outputs": [],
   "source": [
    "# New sentence\n",
    "text = \"The sun rises in the east, setting a golden glow over the horizon.\""
   ]
  },
  {
   "cell_type": "code",
   "execution_count": 23,
   "id": "ea72427e-1e8a-49e6-983d-8087b38e68bb",
   "metadata": {},
   "outputs": [
    {
     "name": "stdout",
     "output_type": "stream",
     "text": [
      "\n",
      "Tokens: ['The', 'sun', 'rises', 'in', 'the', 'east', ',', 'setting', 'a', 'golden', 'glow', 'over', 'the', 'horizon', '.']\n"
     ]
    }
   ],
   "source": [
    "# Tokenization\n",
    "tokens = word_tokenize(text)\n",
    "print(\"\\nTokens:\", tokens)"
   ]
  },
  {
   "cell_type": "code",
   "execution_count": 24,
   "id": "b87167ca-3c26-4736-80dc-9f2d60d44a04",
   "metadata": {},
   "outputs": [
    {
     "name": "stdout",
     "output_type": "stream",
     "text": [
      "\n",
      "Tokens After Stop Word Removal: ['sun', 'rises', 'east', ',', 'setting', 'golden', 'glow', 'horizon', '.']\n"
     ]
    }
   ],
   "source": [
    "# Stop Word Removal\n",
    "stop_words = set(stopwords.words('english'))\n",
    "tokens_without_stopwords = [word for word in tokens if word.lower() not in stop_words]\n",
    "\n",
    "print(\"\\nTokens After Stop Word Removal:\", tokens_without_stopwords)"
   ]
  },
  {
   "cell_type": "code",
   "execution_count": 25,
   "id": "2b0c2801-babe-4cec-9d36-5c8b36848829",
   "metadata": {},
   "outputs": [
    {
     "name": "stdout",
     "output_type": "stream",
     "text": [
      "\n",
      "Tokens After Special Character Removal: ['sun', 'rises', 'east', 'setting', 'golden', 'glow', 'horizon']\n"
     ]
    }
   ],
   "source": [
    "# Special Character Removal\n",
    "tokens_cleaned = [re.sub(r'[^\\w\\s]', '', word) for word in tokens_without_stopwords if re.sub(r'[^\\w\\s]', '', word)]\n",
    "\n",
    "print(\"\\nTokens After Special Character Removal:\", tokens_cleaned)"
   ]
  },
  {
   "cell_type": "code",
   "execution_count": 26,
   "id": "0e7e8312-f6d6-4c63-b079-67db57720ee3",
   "metadata": {},
   "outputs": [
    {
     "name": "stdout",
     "output_type": "stream",
     "text": [
      "\n",
      "Stemmed Tokens: ['sun', 'rise', 'east', 'set', 'golden', 'glow', 'horizon']\n"
     ]
    }
   ],
   "source": [
    "# Stemming\n",
    "stemmer = PorterStemmer()\n",
    "stemmed_tokens = [stemmer.stem(word) for word in tokens_cleaned]\n",
    "\n",
    "print(\"\\nStemmed Tokens:\", stemmed_tokens)"
   ]
  },
  {
   "cell_type": "code",
   "execution_count": 27,
   "id": "f319e4ee-612e-4812-b6ef-b067b40e3e51",
   "metadata": {},
   "outputs": [],
   "source": [
    "# Lemmatization with POS Tagging\n",
    "lemmatizer = WordNetLemmatizer()\n",
    "\n",
    "# Helper function for POS tagging\n",
    "def get_wordnet_pos(word):\n",
    "    tag = pos_tag([word])[0][1][0].upper()\n",
    "    tag_dict = {\"J\": wordnet.ADJ, \"N\": wordnet.NOUN, \"V\": wordnet.VERB, \"R\": wordnet.ADV}\n",
    "    return tag_dict.get(tag, wordnet.NOUN)"
   ]
  },
  {
   "cell_type": "code",
   "execution_count": 28,
   "id": "2d336fe7-e130-4b28-bf35-5ab62e25f160",
   "metadata": {},
   "outputs": [
    {
     "name": "stdout",
     "output_type": "stream",
     "text": [
      "\n",
      "Lemmatized Tokens (with POS): ['sun', 'rise', 'east', 'set', 'golden', 'glow', 'horizon']\n"
     ]
    }
   ],
   "source": [
    "lemmatized_tokens = [lemmatizer.lemmatize(word, get_wordnet_pos(word)) for word in tokens_cleaned]\n",
    "\n",
    "print(\"\\nLemmatized Tokens (with POS):\", lemmatized_tokens)"
   ]
  },
  {
   "cell_type": "code",
   "execution_count": 29,
   "id": "b0419c42-37f1-431a-b7df-459e67625cc6",
   "metadata": {},
   "outputs": [
    {
     "name": "stdout",
     "output_type": "stream",
     "text": [
      "\n",
      "**Final Results:**\n",
      "Original Tokens: ['The', 'sun', 'rises', 'in', 'the', 'east', ',', 'setting', 'a', 'golden', 'glow', 'over', 'the', 'horizon', '.']\n",
      "Tokens After Stop Word Removal: ['sun', 'rises', 'east', ',', 'setting', 'golden', 'glow', 'horizon', '.']\n",
      "Tokens After Special Character Removal: ['sun', 'rises', 'east', 'setting', 'golden', 'glow', 'horizon']\n",
      "Stemmed Tokens: ['sun', 'rise', 'east', 'set', 'golden', 'glow', 'horizon']\n",
      "Lemmatized Tokens: ['sun', 'rise', 'east', 'set', 'golden', 'glow', 'horizon']\n"
     ]
    }
   ],
   "source": [
    "# Final Reflection\n",
    "print(\"\\n**Final Results:**\")\n",
    "print(\"Original Tokens:\", tokens)\n",
    "print(\"Tokens After Stop Word Removal:\", tokens_without_stopwords)\n",
    "print(\"Tokens After Special Character Removal:\", tokens_cleaned)\n",
    "print(\"Stemmed Tokens:\", stemmed_tokens)\n",
    "print(\"Lemmatized Tokens:\", lemmatized_tokens)"
   ]
  },
  {
   "cell_type": "code",
   "execution_count": null,
   "id": "76def1ba-29e3-4146-a218-3f4a2551c6fc",
   "metadata": {},
   "outputs": [],
   "source": []
  }
 ],
 "metadata": {
  "kernelspec": {
   "display_name": "Python 3 (ipykernel)",
   "language": "python",
   "name": "python3"
  },
  "language_info": {
   "codemirror_mode": {
    "name": "ipython",
    "version": 3
   },
   "file_extension": ".py",
   "mimetype": "text/x-python",
   "name": "python",
   "nbconvert_exporter": "python",
   "pygments_lexer": "ipython3",
   "version": "3.11.7"
  }
 },
 "nbformat": 4,
 "nbformat_minor": 5
}
