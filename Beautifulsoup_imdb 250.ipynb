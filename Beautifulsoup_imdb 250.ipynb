{
 "cells": [
  {
   "cell_type": "code",
   "execution_count": 31,
   "id": "5ac7279f-8b62-4ccb-827a-d4d20a9000c7",
   "metadata": {},
   "outputs": [],
   "source": [
    "# Import the libraries\n",
    "import requests                  # For making HTTP requests\n",
    "from bs4 import BeautifulSoup     # For parsing HTML content\n",
    "import pandas as pd           # For creating, storing and manipulating DataFrames\n",
    "import json\n"
   ]
  },
  {
   "cell_type": "code",
   "execution_count": 19,
   "id": "d173d780-89b4-4a55-a56f-481474b39578",
   "metadata": {},
   "outputs": [
    {
     "name": "stdout",
     "output_type": "stream",
     "text": [
      "Successfully fetched the page!\n"
     ]
    }
   ],
   "source": [
    "# Define the URL of the IMDb Top 250 movies page\n",
    "url = 'https://www.imdb.com/chart/top/'\n",
    "\n",
    "# Set headers to mimic a browser request\n",
    "headers = {\n",
    "    'User-Agent': 'Chrome/91.0.4472.124'\n",
    "}\n",
    "\n",
    "# Send an HTTP GET request to fetch the page content with headers\n",
    "response = requests.get(url, headers=headers)\n",
    "\n",
    "# Check if the request was successful (status code 200)\n",
    "if response.status_code == 200:\n",
    "    print(\"Successfully fetched the page!\")\n",
    "else:\n",
    "    print(f\"Failed to retrieve the page. Status code: {response.status_code}\")"
   ]
  },
  {
   "cell_type": "code",
   "execution_count": 28,
   "id": "71b14d47-b62f-42e4-9ad7-c70fe10da0d1",
   "metadata": {},
   "outputs": [
    {
     "name": "stdout",
     "output_type": "stream",
     "text": [
      "Successfully fetched the page!\n"
     ]
    },
    {
     "data": {
      "text/plain": [
       "<Response [200]>"
      ]
     },
     "execution_count": 28,
     "metadata": {},
     "output_type": "execute_result"
    }
   ],
   "source": [
    "# Send an HTTP GET request with the headers\n",
    "response = requests.get(url, headers=headers)\n",
    "\n",
    "# Check if the request was successful (status code 200)\n",
    "if response.status_code == 200:\n",
    "    print(\"Successfully fetched the page!\")\n",
    "else:\n",
    "    print(f\"Failed to retrieve the page. Status code: {response.status_code}\")\n",
    "\n",
    "# Display the response object (if needed)\n",
    "response"
   ]
  },
  {
   "cell_type": "markdown",
   "id": "993d50c0-6864-429b-b23b-6b83f740a7e8",
   "metadata": {},
   "source": [
    "### Parse the HTML"
   ]
  },
  {
   "cell_type": "code",
   "execution_count": 41,
   "id": "d159c9d1-f0f5-4764-9a80-e874bf4fcefb",
   "metadata": {},
   "outputs": [
    {
     "name": "stdout",
     "output_type": "stream",
     "text": [
      "<!DOCTYPE html>\n",
      "<html lang=\"en-US\" xmlns:fb=\"http://www.facebook.com/2008/fbml\" xmlns:og=\"http://opengraphprotocol.org/schema/\">\n",
      " <head>\n",
      "  <meta charset=\"utf-8\"/>\n",
      "  <meta content=\"width=device-width\" name=\"viewport\"/>\n",
      "  <script>\n",
      "   if(typeof uet === 'function'){ uet('bb', 'LoadTitle', {wb: 1}); }\n",
      "  </script>\n",
      "  <script>\n",
      "   window.addEventListener('load', (event) => {\n",
      "        if (typeof window.csa !== 'undefined' && typeof window.csa === 'function') {\n",
      "            var csaLatencyPlugin = window.csa('Content', {\n",
      "                element: {\n",
      "                    slotId: 'LoadTitle',\n",
      "                    type: 'service-call'\n",
      "                }\n",
      "            });\n",
      "            csaLatencyPlugin('mark', 'clickToBodyBegin', 1742237429722);\n",
      "        }\n",
      "    })\n",
      "  </script>\n",
      "  <title>\n",
      "   IMDb Top 250 Movies\n",
      "  </title>\n",
      "  <meta content=\"As rated by regular IMDb voters.\" data-id=\"main\" name=\"description\"/>\n",
      "  <meta content=\"max-image-preview:large\" name=\"robots\"/>\n",
      "  <script type=\"application/ld+json\">\n",
      "   {\"@type\":\"ItemList\",\"itemListElement\":[{\"@type\":\"ListItem\",\"item\":{\"@type\":\"Movie\",\"url\":\"https://www.imdb.com/title/tt0111161/\",\"name\":\"The Shawshank Redemption\",\"description\":\"A banker convicted of uxoricide forms a friendship over a quarter century with a hardened convict, while maintaining his innocence and trying to remain hopeful through simple compassion.\",\"image\":\"https://m.media-amazon.com/images/M/MV5BMDAyY2FhYjctNDc5OS00MDNlLThiMGUtY2UxYWVkNGY2ZjljXkEyXkFqcGc@._V1_.jpg\",\"aggregateRating\":{\"@type\":\"AggregateRating\",\"bestRating\":10,\"worstRating\":1,\"ratingValue\":9.3,\"ratingCount\":3019590},\"contentRating\":\"R\",\"genre\":\"Drama\",\"duration\":\"PT2H22M\"}},{\"@type\":\"ListItem\",\"item\":{\"@type\":\"Movie\",\"url\":\"https://www.imdb.com/title/tt0068646/\",\"name\":\"The Godfather\",\"description\":\"The aging patriarch of an organized crime dynasty transfers control of his clandestine empire to his reluctant son.\",\"image\":\"https://m.media-amazon.com/images/M/MV5BNGEwYjgwOGQtYjg5ZS00Njc1LTk2ZGEtM2QwZWQ2NjdhZTE5XkEyXkF\n"
     ]
    }
   ],
   "source": [
    "# Parse the HTML content of the page using Beautiful Soup\n",
    "soup = BeautifulSoup(response.content, \"html.parser\")\n",
    "\n",
    "# Print the parsed HTML to verify\n",
    "print(soup.prettify()[:2000])"
   ]
  },
  {
   "cell_type": "code",
   "execution_count": 48,
   "id": "e6ec6c4e-e174-4c1c-8f4a-bf848bf48746",
   "metadata": {},
   "outputs": [],
   "source": [
    "# Find the JSON-LD script tag\n",
    "json_data = soup.find('script', type='application/ld+json')\n",
    "\n",
    "if json_data:    # Parse the JSON data\n",
    "    data = json.loads(json_data.string) "
   ]
  },
  {
   "cell_type": "code",
   "execution_count": 50,
   "id": "11ae3f05-c71f-4d54-bbf2-72f3744b6500",
   "metadata": {},
   "outputs": [],
   "source": [
    "# Extract titles and ratings\n",
    "titles = []\n",
    "urls = []\n",
    "descriptions = []\n",
    "best_ratings = []\n",
    "worst_ratings = []\n",
    "ratings = []\n",
    "genres = []\n",
    "durations = []"
   ]
  },
  {
   "cell_type": "code",
   "execution_count": 51,
   "id": "504fd420-ba7b-4594-ab0c-a3ed302644a5",
   "metadata": {},
   "outputs": [],
   "source": [
    "# Check if the data contains the expected structure\n",
    "if 'itemListElement' in data:\n",
    "    for item in data['itemListElement']:\n",
    "        movie = item['item']\n",
    "        \n",
    "# Extract movie details\n",
    "        titles.append(movie['name'])  # Movie name\n",
    "        urls.append(movie['url'])  # Movie URL\n",
    "        descriptions.append(movie['description'])  # Movie description\n",
    "        \n",
    "# Extract ratings (best, worst, actual rating)\n",
    "        best_ratings.append(movie['aggregateRating']['bestRating'])  # Best rating\n",
    "        worst_ratings.append(movie['aggregateRating']['worstRating']) # Worst rating\n",
    "        ratings.append(float(movie['aggregateRating']['ratingValue'])) # Rating value\n",
    "        \n",
    "        genres.append(movie['genre'])  # Movie genre\n",
    "        durations.append(movie['duration'])  # Movie duration"
   ]
  },
  {
   "cell_type": "code",
   "execution_count": 53,
   "id": "6bee4a5e-8769-44a7-88bc-3cd3614ad410",
   "metadata": {},
   "outputs": [],
   "source": [
    "# Create a DataFrame to store the scraped data\n",
    "df = pd.DataFrame({\n",
    "    'Title': titles,\n",
    "    'URL': urls,\n",
    "    'Description': descriptions,\n",
    "    'Best Rating': best_ratings,\n",
    "    'Worst Rating': worst_ratings,\n",
    "    'Rating': ratings,\n",
    "    'Genre': genres,\n",
    "    'Duration': durations\n",
    " })"
   ]
  },
  {
   "cell_type": "code",
   "execution_count": 54,
   "id": "df8b1927-bbb4-4f5a-9659-0ab4cded8b9e",
   "metadata": {},
   "outputs": [
    {
     "data": {
      "text/html": [
       "<div>\n",
       "<style scoped>\n",
       "    .dataframe tbody tr th:only-of-type {\n",
       "        vertical-align: middle;\n",
       "    }\n",
       "\n",
       "    .dataframe tbody tr th {\n",
       "        vertical-align: top;\n",
       "    }\n",
       "\n",
       "    .dataframe thead th {\n",
       "        text-align: right;\n",
       "    }\n",
       "</style>\n",
       "<table border=\"1\" class=\"dataframe\">\n",
       "  <thead>\n",
       "    <tr style=\"text-align: right;\">\n",
       "      <th></th>\n",
       "      <th>Title</th>\n",
       "      <th>URL</th>\n",
       "      <th>Description</th>\n",
       "      <th>Best Rating</th>\n",
       "      <th>Worst Rating</th>\n",
       "      <th>Rating</th>\n",
       "      <th>Genre</th>\n",
       "      <th>Duration</th>\n",
       "    </tr>\n",
       "  </thead>\n",
       "  <tbody>\n",
       "    <tr>\n",
       "      <th>0</th>\n",
       "      <td>The Shawshank Redemption</td>\n",
       "      <td>https://www.imdb.com/title/tt0111161/</td>\n",
       "      <td>A banker convicted of uxoricide forms a friend...</td>\n",
       "      <td>10</td>\n",
       "      <td>1</td>\n",
       "      <td>9.3</td>\n",
       "      <td>Drama</td>\n",
       "      <td>PT2H22M</td>\n",
       "    </tr>\n",
       "    <tr>\n",
       "      <th>1</th>\n",
       "      <td>The Godfather</td>\n",
       "      <td>https://www.imdb.com/title/tt0068646/</td>\n",
       "      <td>The aging patriarch of an organized crime dyna...</td>\n",
       "      <td>10</td>\n",
       "      <td>1</td>\n",
       "      <td>9.2</td>\n",
       "      <td>Crime, Drama</td>\n",
       "      <td>PT2H55M</td>\n",
       "    </tr>\n",
       "    <tr>\n",
       "      <th>2</th>\n",
       "      <td>The Dark Knight</td>\n",
       "      <td>https://www.imdb.com/title/tt0468569/</td>\n",
       "      <td>When a menace known as the Joker wreaks havoc ...</td>\n",
       "      <td>10</td>\n",
       "      <td>1</td>\n",
       "      <td>9.0</td>\n",
       "      <td>Action, Crime, Drama</td>\n",
       "      <td>PT2H32M</td>\n",
       "    </tr>\n",
       "    <tr>\n",
       "      <th>3</th>\n",
       "      <td>The Godfather Part II</td>\n",
       "      <td>https://www.imdb.com/title/tt0071562/</td>\n",
       "      <td>The early life and career of Vito Corleone in ...</td>\n",
       "      <td>10</td>\n",
       "      <td>1</td>\n",
       "      <td>9.0</td>\n",
       "      <td>Crime, Drama</td>\n",
       "      <td>PT3H22M</td>\n",
       "    </tr>\n",
       "    <tr>\n",
       "      <th>4</th>\n",
       "      <td>12 Angry Men</td>\n",
       "      <td>https://www.imdb.com/title/tt0050083/</td>\n",
       "      <td>The jury in a New York City murder trial is fr...</td>\n",
       "      <td>10</td>\n",
       "      <td>1</td>\n",
       "      <td>9.0</td>\n",
       "      <td>Crime, Drama</td>\n",
       "      <td>PT1H36M</td>\n",
       "    </tr>\n",
       "  </tbody>\n",
       "</table>\n",
       "</div>"
      ],
      "text/plain": [
       "                      Title                                    URL  \\\n",
       "0  The Shawshank Redemption  https://www.imdb.com/title/tt0111161/   \n",
       "1             The Godfather  https://www.imdb.com/title/tt0068646/   \n",
       "2           The Dark Knight  https://www.imdb.com/title/tt0468569/   \n",
       "3     The Godfather Part II  https://www.imdb.com/title/tt0071562/   \n",
       "4              12 Angry Men  https://www.imdb.com/title/tt0050083/   \n",
       "\n",
       "                                         Description  Best Rating  \\\n",
       "0  A banker convicted of uxoricide forms a friend...           10   \n",
       "1  The aging patriarch of an organized crime dyna...           10   \n",
       "2  When a menace known as the Joker wreaks havoc ...           10   \n",
       "3  The early life and career of Vito Corleone in ...           10   \n",
       "4  The jury in a New York City murder trial is fr...           10   \n",
       "\n",
       "   Worst Rating  Rating                 Genre Duration  \n",
       "0             1     9.3                 Drama  PT2H22M  \n",
       "1             1     9.2          Crime, Drama  PT2H55M  \n",
       "2             1     9.0  Action, Crime, Drama  PT2H32M  \n",
       "3             1     9.0          Crime, Drama  PT3H22M  \n",
       "4             1     9.0          Crime, Drama  PT1H36M  "
      ]
     },
     "execution_count": 54,
     "metadata": {},
     "output_type": "execute_result"
    }
   ],
   "source": [
    "df.head()"
   ]
  },
  {
   "cell_type": "code",
   "execution_count": null,
   "id": "9519df7b-5caa-4148-8b6a-e957ce37ae54",
   "metadata": {},
   "outputs": [],
   "source": []
  }
 ],
 "metadata": {
  "kernelspec": {
   "display_name": "Python 3 (ipykernel)",
   "language": "python",
   "name": "python3"
  },
  "language_info": {
   "codemirror_mode": {
    "name": "ipython",
    "version": 3
   },
   "file_extension": ".py",
   "mimetype": "text/x-python",
   "name": "python",
   "nbconvert_exporter": "python",
   "pygments_lexer": "ipython3",
   "version": "3.11.7"
  }
 },
 "nbformat": 4,
 "nbformat_minor": 5
}
