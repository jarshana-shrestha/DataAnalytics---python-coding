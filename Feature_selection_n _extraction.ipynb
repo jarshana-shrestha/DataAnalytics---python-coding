{
 "cells": [
  {
   "cell_type": "markdown",
   "id": "9c43f14f-e992-46d3-bc6f-7bb1ed46eebc",
   "metadata": {},
   "source": [
    "## Feature selection and Feature extraction techniques"
   ]
  },
  {
   "cell_type": "code",
   "execution_count": 15,
   "id": "6cbbd747-429a-42f1-9e60-3e99fb804dd3",
   "metadata": {},
   "outputs": [],
   "source": [
    "import numpy as np\n",
    "import pandas as pd\n",
    "from sklearn.datasets import make_classification # to generate calassification data\n",
    "from sklearn.feature_selection import SelectKBest, f_classif # to select top features using ANOVA F-test\n",
    "from sklearn.decomposition import PCA  # to reduce dimensions based on variance\n",
    "from sklearn.preprocessing import StandardScaler, MinMaxScaler # for feature scaling\n",
    "from sklearn.ensemble import RandomForestClassifier\n",
    "from sklearn.feature_selection import SelectFromModel # for feature importance selection"
   ]
  },
  {
   "cell_type": "markdown",
   "id": "da7f7c20-1ef3-4909-a846-cba7e64dd8e9",
   "metadata": {},
   "source": [
    "### Generating Synthetic Dataset"
   ]
  },
  {
   "cell_type": "code",
   "execution_count": 7,
   "id": "2dc367f7-9b12-4227-b392-7aaf4a904d6b",
   "metadata": {},
   "outputs": [
    {
     "data": {
      "text/plain": [
       "array([[ 0.36539251,  2.17589077, -1.90154126, ...,  0.36539251,\n",
       "        -0.57014359,  1.17088601],\n",
       "       [ 0.27033394,  2.03222652,  1.85923573, ...,  0.27033394,\n",
       "         0.57891323,  0.46071376],\n",
       "       [-0.3114802 ,  1.82441488, -2.56662739, ..., -0.3114802 ,\n",
       "         1.23175453,  0.55573185],\n",
       "       ...,\n",
       "       [-3.05191416, -2.67389894,  1.25297661, ..., -3.05191416,\n",
       "        -2.62845792,  3.14126435],\n",
       "       [ 2.58014668, -1.48541993, -0.23554459, ...,  2.58014668,\n",
       "         2.50058851, -1.80960905],\n",
       "       [ 0.29159801,  1.35256752,  1.30818297, ...,  0.29159801,\n",
       "         1.06354347,  0.2754444 ]])"
      ]
     },
     "execution_count": 7,
     "metadata": {},
     "output_type": "execute_result"
    }
   ],
   "source": [
    "x, y = make_classification(\n",
    "    n_samples=500,   # rows\n",
    "    n_features=10,  # columns\n",
    "    n_informative=5,\n",
    "    n_redundant=3,\n",
    "    n_repeated=2,\n",
    "    random_state=42,\n",
    " )\n",
    "\n",
    "x"
   ]
  },
  {
   "cell_type": "code",
   "execution_count": 8,
   "id": "ce3b742e-7463-4c45-8164-52e631a78742",
   "metadata": {},
   "outputs": [
    {
     "data": {
      "text/plain": [
       "array([0, 0, 0, 1, 1, 1, 1, 0, 0, 1, 1, 0, 1, 0, 0, 1, 0, 1, 1, 1, 0, 0,\n",
       "       1, 0, 1, 1, 1, 0, 1, 1, 1, 1, 0, 1, 1, 0, 0, 1, 0, 0, 1, 1, 1, 0,\n",
       "       0, 1, 0, 1, 0, 1, 0, 1, 0, 1, 1, 1, 1, 1, 0, 1, 1, 0, 1, 0, 0, 0,\n",
       "       1, 0, 1, 1, 1, 0, 0, 0, 0, 0, 0, 1, 0, 0, 0, 1, 0, 0, 0, 0, 1, 1,\n",
       "       1, 1, 1, 0, 1, 0, 0, 1, 0, 1, 0, 0, 0, 1, 1, 0, 0, 0, 0, 1, 0, 1,\n",
       "       0, 0, 0, 0, 1, 0, 1, 0, 1, 1, 0, 1, 0, 1, 1, 1, 0, 0, 0, 1, 0, 0,\n",
       "       1, 1, 0, 1, 1, 1, 1, 0, 1, 0, 0, 0, 0, 0, 1, 1, 1, 1, 0, 0, 1, 0,\n",
       "       0, 0, 0, 0, 1, 0, 1, 0, 0, 1, 1, 1, 1, 0, 1, 0, 0, 0, 0, 0, 0, 0,\n",
       "       1, 0, 0, 1, 0, 0, 1, 1, 1, 0, 0, 1, 1, 1, 1, 0, 1, 1, 0, 0, 0, 1,\n",
       "       1, 0, 1, 1, 1, 1, 1, 1, 1, 0, 1, 1, 1, 1, 0, 0, 1, 1, 1, 1, 0, 1,\n",
       "       1, 0, 0, 0, 1, 0, 0, 0, 1, 1, 1, 1, 1, 0, 1, 1, 0, 0, 0, 1, 0, 0,\n",
       "       1, 1, 0, 1, 1, 1, 1, 1, 1, 1, 0, 1, 0, 0, 1, 0, 1, 0, 1, 0, 1, 0,\n",
       "       0, 0, 0, 0, 0, 1, 1, 1, 1, 1, 0, 1, 1, 1, 1, 0, 1, 1, 0, 1, 0, 0,\n",
       "       1, 0, 0, 1, 0, 1, 1, 0, 0, 0, 1, 1, 1, 1, 0, 0, 1, 0, 1, 0, 1, 0,\n",
       "       0, 0, 0, 0, 0, 0, 0, 1, 0, 0, 1, 0, 0, 0, 0, 0, 1, 1, 1, 1, 0, 0,\n",
       "       1, 0, 1, 1, 1, 1, 1, 0, 0, 0, 0, 0, 0, 0, 0, 1, 1, 1, 0, 0, 0, 0,\n",
       "       1, 0, 0, 1, 0, 1, 1, 0, 1, 1, 0, 0, 1, 1, 0, 0, 1, 0, 0, 0, 1, 1,\n",
       "       0, 1, 0, 0, 1, 1, 0, 0, 1, 0, 0, 0, 0, 0, 0, 0, 1, 1, 1, 1, 0, 0,\n",
       "       1, 1, 0, 0, 1, 1, 1, 0, 1, 1, 0, 1, 1, 0, 1, 1, 1, 1, 0, 1, 1, 1,\n",
       "       0, 1, 0, 1, 0, 0, 0, 1, 1, 0, 1, 1, 1, 1, 0, 0, 1, 1, 0, 1, 0, 1,\n",
       "       1, 0, 0, 0, 0, 0, 0, 0, 0, 0, 1, 1, 1, 0, 0, 1, 1, 0, 0, 1, 1, 0,\n",
       "       0, 0, 1, 1, 1, 1, 1, 1, 1, 0, 0, 1, 1, 0, 1, 1, 1, 0, 1, 1, 1, 0,\n",
       "       0, 0, 0, 0, 0, 1, 1, 0, 1, 0, 0, 1, 0, 1, 1, 0])"
      ]
     },
     "execution_count": 8,
     "metadata": {},
     "output_type": "execute_result"
    }
   ],
   "source": [
    "y"
   ]
  },
  {
   "cell_type": "code",
   "execution_count": 10,
   "id": "875d5068-01ba-4b56-a94d-6606512e7bae",
   "metadata": {},
   "outputs": [
    {
     "data": {
      "text/html": [
       "<div>\n",
       "<style scoped>\n",
       "    .dataframe tbody tr th:only-of-type {\n",
       "        vertical-align: middle;\n",
       "    }\n",
       "\n",
       "    .dataframe tbody tr th {\n",
       "        vertical-align: top;\n",
       "    }\n",
       "\n",
       "    .dataframe thead th {\n",
       "        text-align: right;\n",
       "    }\n",
       "</style>\n",
       "<table border=\"1\" class=\"dataframe\">\n",
       "  <thead>\n",
       "    <tr style=\"text-align: right;\">\n",
       "      <th></th>\n",
       "      <th>Feature_1</th>\n",
       "      <th>Feature_2</th>\n",
       "      <th>Feature_3</th>\n",
       "      <th>Feature_4</th>\n",
       "      <th>Feature_5</th>\n",
       "      <th>Feature_6</th>\n",
       "      <th>Feature_7</th>\n",
       "      <th>Feature_8</th>\n",
       "      <th>Feature_9</th>\n",
       "      <th>Feature_10</th>\n",
       "      <th>Target</th>\n",
       "    </tr>\n",
       "  </thead>\n",
       "  <tbody>\n",
       "    <tr>\n",
       "      <th>0</th>\n",
       "      <td>0.365393</td>\n",
       "      <td>2.175891</td>\n",
       "      <td>-1.901541</td>\n",
       "      <td>1.155482</td>\n",
       "      <td>-0.937128</td>\n",
       "      <td>0.365393</td>\n",
       "      <td>0.637000</td>\n",
       "      <td>0.365393</td>\n",
       "      <td>-0.570144</td>\n",
       "      <td>1.170886</td>\n",
       "      <td>0</td>\n",
       "    </tr>\n",
       "    <tr>\n",
       "      <th>1</th>\n",
       "      <td>0.270334</td>\n",
       "      <td>2.032227</td>\n",
       "      <td>1.859236</td>\n",
       "      <td>0.978039</td>\n",
       "      <td>-0.829560</td>\n",
       "      <td>0.270334</td>\n",
       "      <td>3.076069</td>\n",
       "      <td>0.270334</td>\n",
       "      <td>0.578913</td>\n",
       "      <td>0.460714</td>\n",
       "      <td>0</td>\n",
       "    </tr>\n",
       "    <tr>\n",
       "      <th>2</th>\n",
       "      <td>-0.311480</td>\n",
       "      <td>1.824415</td>\n",
       "      <td>-2.566627</td>\n",
       "      <td>2.065977</td>\n",
       "      <td>-1.791858</td>\n",
       "      <td>-0.311480</td>\n",
       "      <td>-0.097573</td>\n",
       "      <td>-0.311480</td>\n",
       "      <td>1.231755</td>\n",
       "      <td>0.555732</td>\n",
       "      <td>0</td>\n",
       "    </tr>\n",
       "    <tr>\n",
       "      <th>3</th>\n",
       "      <td>1.031703</td>\n",
       "      <td>-1.789377</td>\n",
       "      <td>0.971821</td>\n",
       "      <td>0.215974</td>\n",
       "      <td>0.620152</td>\n",
       "      <td>1.031703</td>\n",
       "      <td>-2.551701</td>\n",
       "      <td>1.031703</td>\n",
       "      <td>2.013369</td>\n",
       "      <td>-1.874659</td>\n",
       "      <td>1</td>\n",
       "    </tr>\n",
       "    <tr>\n",
       "      <th>4</th>\n",
       "      <td>0.745957</td>\n",
       "      <td>-1.738867</td>\n",
       "      <td>1.242226</td>\n",
       "      <td>-1.243438</td>\n",
       "      <td>1.625984</td>\n",
       "      <td>0.745957</td>\n",
       "      <td>-1.573781</td>\n",
       "      <td>0.745957</td>\n",
       "      <td>-0.260604</td>\n",
       "      <td>-1.067344</td>\n",
       "      <td>1</td>\n",
       "    </tr>\n",
       "    <tr>\n",
       "      <th>...</th>\n",
       "      <td>...</td>\n",
       "      <td>...</td>\n",
       "      <td>...</td>\n",
       "      <td>...</td>\n",
       "      <td>...</td>\n",
       "      <td>...</td>\n",
       "      <td>...</td>\n",
       "      <td>...</td>\n",
       "      <td>...</td>\n",
       "      <td>...</td>\n",
       "      <td>...</td>\n",
       "    </tr>\n",
       "    <tr>\n",
       "      <th>495</th>\n",
       "      <td>-1.453426</td>\n",
       "      <td>1.698842</td>\n",
       "      <td>-0.309161</td>\n",
       "      <td>0.082497</td>\n",
       "      <td>0.137802</td>\n",
       "      <td>-1.453426</td>\n",
       "      <td>2.051811</td>\n",
       "      <td>-1.453426</td>\n",
       "      <td>-0.119020</td>\n",
       "      <td>0.331507</td>\n",
       "      <td>1</td>\n",
       "    </tr>\n",
       "    <tr>\n",
       "      <th>496</th>\n",
       "      <td>-1.030117</td>\n",
       "      <td>0.768269</td>\n",
       "      <td>-0.679555</td>\n",
       "      <td>1.547205</td>\n",
       "      <td>-2.386968</td>\n",
       "      <td>-1.030117</td>\n",
       "      <td>1.358546</td>\n",
       "      <td>-1.030117</td>\n",
       "      <td>1.368355</td>\n",
       "      <td>0.711368</td>\n",
       "      <td>0</td>\n",
       "    </tr>\n",
       "    <tr>\n",
       "      <th>497</th>\n",
       "      <td>-3.051914</td>\n",
       "      <td>-2.673899</td>\n",
       "      <td>1.252977</td>\n",
       "      <td>-1.769336</td>\n",
       "      <td>-3.193075</td>\n",
       "      <td>-3.051914</td>\n",
       "      <td>3.892805</td>\n",
       "      <td>-3.051914</td>\n",
       "      <td>-2.628458</td>\n",
       "      <td>3.141264</td>\n",
       "      <td>1</td>\n",
       "    </tr>\n",
       "    <tr>\n",
       "      <th>498</th>\n",
       "      <td>2.580147</td>\n",
       "      <td>-1.485420</td>\n",
       "      <td>-0.235545</td>\n",
       "      <td>1.376543</td>\n",
       "      <td>-0.090310</td>\n",
       "      <td>2.580147</td>\n",
       "      <td>-4.219712</td>\n",
       "      <td>2.580147</td>\n",
       "      <td>2.500589</td>\n",
       "      <td>-1.809609</td>\n",
       "      <td>1</td>\n",
       "    </tr>\n",
       "    <tr>\n",
       "      <th>499</th>\n",
       "      <td>0.291598</td>\n",
       "      <td>1.352568</td>\n",
       "      <td>1.308183</td>\n",
       "      <td>1.209957</td>\n",
       "      <td>-1.214244</td>\n",
       "      <td>0.291598</td>\n",
       "      <td>2.059895</td>\n",
       "      <td>0.291598</td>\n",
       "      <td>1.063543</td>\n",
       "      <td>0.275444</td>\n",
       "      <td>0</td>\n",
       "    </tr>\n",
       "  </tbody>\n",
       "</table>\n",
       "<p>500 rows × 11 columns</p>\n",
       "</div>"
      ],
      "text/plain": [
       "     Feature_1  Feature_2  Feature_3  Feature_4  Feature_5  Feature_6  \\\n",
       "0     0.365393   2.175891  -1.901541   1.155482  -0.937128   0.365393   \n",
       "1     0.270334   2.032227   1.859236   0.978039  -0.829560   0.270334   \n",
       "2    -0.311480   1.824415  -2.566627   2.065977  -1.791858  -0.311480   \n",
       "3     1.031703  -1.789377   0.971821   0.215974   0.620152   1.031703   \n",
       "4     0.745957  -1.738867   1.242226  -1.243438   1.625984   0.745957   \n",
       "..         ...        ...        ...        ...        ...        ...   \n",
       "495  -1.453426   1.698842  -0.309161   0.082497   0.137802  -1.453426   \n",
       "496  -1.030117   0.768269  -0.679555   1.547205  -2.386968  -1.030117   \n",
       "497  -3.051914  -2.673899   1.252977  -1.769336  -3.193075  -3.051914   \n",
       "498   2.580147  -1.485420  -0.235545   1.376543  -0.090310   2.580147   \n",
       "499   0.291598   1.352568   1.308183   1.209957  -1.214244   0.291598   \n",
       "\n",
       "     Feature_7  Feature_8  Feature_9  Feature_10  Target  \n",
       "0     0.637000   0.365393  -0.570144    1.170886       0  \n",
       "1     3.076069   0.270334   0.578913    0.460714       0  \n",
       "2    -0.097573  -0.311480   1.231755    0.555732       0  \n",
       "3    -2.551701   1.031703   2.013369   -1.874659       1  \n",
       "4    -1.573781   0.745957  -0.260604   -1.067344       1  \n",
       "..         ...        ...        ...         ...     ...  \n",
       "495   2.051811  -1.453426  -0.119020    0.331507       1  \n",
       "496   1.358546  -1.030117   1.368355    0.711368       0  \n",
       "497   3.892805  -3.051914  -2.628458    3.141264       1  \n",
       "498  -4.219712   2.580147   2.500589   -1.809609       1  \n",
       "499   2.059895   0.291598   1.063543    0.275444       0  \n",
       "\n",
       "[500 rows x 11 columns]"
      ]
     },
     "execution_count": 10,
     "metadata": {},
     "output_type": "execute_result"
    }
   ],
   "source": [
    "# Creating Dataframe\n",
    "\n",
    "feature_names = [f\"Feature_{i+1}\" for i in range(x.shape[1])]\n",
    "data = pd.DataFrame(x, columns=feature_names)\n",
    "\n",
    "data['Target'] = y\n",
    "data"
   ]
  },
  {
   "cell_type": "markdown",
   "id": "fad0d35e-8abf-4bfb-84a1-3579c7192aaf",
   "metadata": {},
   "source": [
    "### Feature Selection: ANOVA F-Test\n",
    "\n",
    "Selecting top 5 most relevant features from dataset using ANOVA F-test. ANOVA F-test checks how much each feature varies across the different classes in target y."
   ]
  },
  {
   "cell_type": "code",
   "execution_count": 12,
   "id": "cf8ffdf9-7105-4350-a839-9fa23bbaf9b7",
   "metadata": {},
   "outputs": [
    {
     "name": "stdout",
     "output_type": "stream",
     "text": [
      "Selected Features (ANOVA): ['Feature_2' 'Feature_4' 'Feature_5' 'Feature_6' 'Feature_8']\n"
     ]
    }
   ],
   "source": [
    "selector = SelectKBest(score_func=f_classif, k=5)\n",
    "x_selected = selector.fit_transform(x, y)\n",
    "\n",
    "selected_features = np.array(feature_names)[selector.get_support()]\n",
    "\n",
    "print(f\"Selected Features (ANOVA): {selected_features}\")"
   ]
  },
  {
   "cell_type": "markdown",
   "id": "b2d214ba-84ab-422c-86f9-3868f72bebec",
   "metadata": {},
   "source": [
    "### Feature Extraction: PCA"
   ]
  },
  {
   "cell_type": "code",
   "execution_count": 19,
   "id": "4d38b5c5-6dd8-4cd1-acac-793c3a539dd9",
   "metadata": {},
   "outputs": [
    {
     "name": "stdout",
     "output_type": "stream",
     "text": [
      "PCA Components Shape: (500, 2)\n"
     ]
    }
   ],
   "source": [
    "# Feature Extraction\n",
    "scaler = StandardScaler()\n",
    "x_scaled = scaler.fit_transform(x)\n",
    "\n",
    "pca = PCA(n_components=2)\n",
    "x_pca = pca.fit_transform(x_scaled)\n",
    "\n",
    "print(f\"PCA Components Shape: {x_pca.shape}\")"
   ]
  },
  {
   "cell_type": "markdown",
   "id": "2c17fa92-f725-4804-8938-42ac959b19f5",
   "metadata": {},
   "source": [
    "### Using Feature Importance with Random Forest\n",
    "\n",
    "This will select features based on their importance in a tree-based model — a model-based selection method."
   ]
  },
  {
   "cell_type": "code",
   "execution_count": 21,
   "id": "b80d3811-bc9d-47c1-8af9-494fc15b4ef1",
   "metadata": {},
   "outputs": [
    {
     "name": "stdout",
     "output_type": "stream",
     "text": [
      "Important Features (Random Forest): ['Feature_4' 'Feature_5' 'Feature_10']\n"
     ]
    }
   ],
   "source": [
    "model = RandomForestClassifier(random_state=42)\n",
    "model.fit(x, y)\n",
    "\n",
    "sfm = SelectFromModel(model, prefit=True)\n",
    "x_rfc_selected = sfm.transform(x)\n",
    "\n",
    "important_features = np.array(feature_names)[sfm.get_support()]\n",
    "print(f\"Important Features (Random Forest): {important_features}\")"
   ]
  },
  {
   "cell_type": "code",
   "execution_count": null,
   "id": "1bfe3439-3cde-4a30-b29a-a9b907258f4f",
   "metadata": {},
   "outputs": [],
   "source": []
  }
 ],
 "metadata": {
  "kernelspec": {
   "display_name": "Python 3 (ipykernel)",
   "language": "python",
   "name": "python3"
  },
  "language_info": {
   "codemirror_mode": {
    "name": "ipython",
    "version": 3
   },
   "file_extension": ".py",
   "mimetype": "text/x-python",
   "name": "python",
   "nbconvert_exporter": "python",
   "pygments_lexer": "ipython3",
   "version": "3.11.7"
  }
 },
 "nbformat": 4,
 "nbformat_minor": 5
}
