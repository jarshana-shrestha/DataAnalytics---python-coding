{
 "cells": [
  {
   "cell_type": "markdown",
   "id": "e37a675c-0a18-453a-b9f5-1cde1b02a673",
   "metadata": {},
   "source": [
    "### ARIMA (AutoRegressive Integrated Moving Average) \n",
    "is a class of statistical models used for time series forecasting. It combines three key components:\n",
    "\n",
    "#### AutoRegressive (AR):\n",
    "Uses the relationship between an observation and several lagged observations (previous time steps).\n",
    "\n",
    "#### Integrated (I):\n",
    "Involves differencing the data to make it stationary, which helps in removing trends.\n",
    "\n",
    "#### Moving Average (MA):\n",
    "Models the relationship between an observation and a residual error from a moving average model applied to lagged observations.\n",
    "\n",
    "The ARIMA model is typically used for predicting future values in a time series when data shows a trend and some level of randomness (noise). It is a powerful tool for time series analysis because it doesn't require seasonal components like other models (e.g., SARIMA), but can still capture a variety of data patterns through the combination of AR, I, and MA terms."
   ]
  },
  {
   "cell_type": "code",
   "execution_count": 1,
   "id": "9f93ec3f-8a3d-4c3d-8ad3-b0dcc8607291",
   "metadata": {},
   "outputs": [],
   "source": [
    "import pandas as pd\n",
    "from statsmodels.tsa.arima.model import ARIMA\n",
    "from matplotlib import pyplot as plt"
   ]
  },
  {
   "cell_type": "code",
   "execution_count": 14,
   "id": "f8d5ed41-5426-46d9-9a55-714af0f303cb",
   "metadata": {},
   "outputs": [
    {
     "name": "stdout",
     "output_type": "stream",
     "text": [
      "{'Date': DatetimeIndex(['2024-01-01', '2024-01-02', '2024-01-03', '2024-01-04',\n",
      "               '2024-01-05', '2024-01-06', '2024-01-07', '2024-01-08',\n",
      "               '2024-01-09', '2024-01-10', '2024-01-11', '2024-01-12',\n",
      "               '2024-01-13', '2024-01-14', '2024-01-15', '2024-01-16',\n",
      "               '2024-01-17', '2024-01-18', '2024-01-19', '2024-01-20'],\n",
      "              dtype='datetime64[ns]', freq='D'), 'Value': [100, 102, 101, 104, 107, 110, 115, 113, 117, 119, 118, 120, 125, 130, 128, 135, 137, 140, 138, 142]}\n"
     ]
    }
   ],
   "source": [
    "#Sample data\n",
    "data = {\n",
    "    \"Date\": pd.date_range(start=\"2024-01-01\", end=\"2024-01-20\"),\n",
    "    \"Value\": [100, 102, 101, 104, 107, 110, 115, 113, 117, 119, \n",
    "              118, 120, 125, 130, 128, 135, 137, 140, 138, 142]\n",
    "}\n",
    "\n",
    "print(data)"
   ]
  },
  {
   "cell_type": "code",
   "execution_count": 13,
   "id": "ac5fb969-bd48-4f27-a0fa-d422007e8900",
   "metadata": {},
   "outputs": [
    {
     "name": "stdout",
     "output_type": "stream",
     "text": [
      "[100, 102, 101, 104, 107, 110, 115, 113, 117, 119, 118, 120, 125, 130, 128, 135, 137, 140, 138, 142]\n"
     ]
    }
   ],
   "source": [
    "series = data['Value']\n",
    "print(series)"
   ]
  },
  {
   "cell_type": "code",
   "execution_count": 7,
   "id": "5df7d8b0-cb29-412e-b737-a7309c4cadbb",
   "metadata": {},
   "outputs": [
    {
     "name": "stdout",
     "output_type": "stream",
     "text": [
      "                               SARIMAX Results                                \n",
      "==============================================================================\n",
      "Dep. Variable:                      y   No. Observations:                   20\n",
      "Model:                 ARIMA(2, 1, 2)   Log Likelihood                 -44.720\n",
      "Date:                Tue, 29 Apr 2025   AIC                             99.440\n",
      "Time:                        20:40:04   BIC                            104.163\n",
      "Sample:                             0   HQIC                           100.240\n",
      "                                 - 20                                         \n",
      "Covariance Type:                  opg                                         \n",
      "==============================================================================\n",
      "                 coef    std err          z      P>|z|      [0.025      0.975]\n",
      "------------------------------------------------------------------------------\n",
      "ar.L1          1.3021      0.581      2.241      0.025       0.163       2.441\n",
      "ar.L2         -0.3040      0.590     -0.515      0.607      -1.461       0.853\n",
      "ma.L1         -1.9370     16.326     -0.119      0.906     -33.936      30.062\n",
      "ma.L2          0.9924     16.912      0.059      0.953     -32.154      34.139\n",
      "sigma2         4.6592     75.938      0.061      0.951    -144.177     153.495\n",
      "===================================================================================\n",
      "Ljung-Box (L1) (Q):                   0.36   Jarque-Bera (JB):                 1.13\n",
      "Prob(Q):                              0.55   Prob(JB):                         0.57\n",
      "Heteroskedasticity (H):               1.56   Skew:                            -0.26\n",
      "Prob(H) (two-sided):                  0.60   Kurtosis:                         1.92\n",
      "===================================================================================\n",
      "\n",
      "Warnings:\n",
      "[1] Covariance matrix calculated using the outer product of gradients (complex-step).\n"
     ]
    },
    {
     "name": "stderr",
     "output_type": "stream",
     "text": [
      "C:\\Users\\Jarshana Shrestha\\anaconda3\\Lib\\site-packages\\statsmodels\\base\\model.py:607: ConvergenceWarning: Maximum Likelihood optimization failed to converge. Check mle_retvals\n",
      "  warnings.warn(\"Maximum Likelihood optimization failed to \"\n"
     ]
    }
   ],
   "source": [
    "#Fit ARIMA\n",
    "model = ARIMA (series, order = (2,1,2))\n",
    "model_fit = model.fit()\n",
    "\n",
    "#Summary of the model\n",
    "print(model_fit.summary())"
   ]
  },
  {
   "cell_type": "code",
   "execution_count": 9,
   "id": "137d0b75-a0ee-4e9f-97ba-91fd0daa501b",
   "metadata": {},
   "outputs": [
    {
     "name": "stdout",
     "output_type": "stream",
     "text": [
      "[144.73100099 147.3774068  149.99300651 152.59421093 155.18603655\n",
      " 157.77002639 160.34666457 162.91611242 165.4784328  168.03365853]\n"
     ]
    }
   ],
   "source": [
    "# Forecasting\n",
    "forecast = model_fit.forecast(steps = 10)\n",
    "print(forecast)"
   ]
  },
  {
   "cell_type": "code",
   "execution_count": 12,
   "id": "87acd72e-2b2b-412f-a3fe-480de1efe867",
   "metadata": {},
   "outputs": [
    {
     "data": {
      "image/png": "[encoded data removed]",
      "text/plain": [
       "<Figure size 640x480 with 1 Axes>"
      ]
     },
     "metadata": {},
     "output_type": "display_data"
    }
   ],
   "source": [
    "#Plot\n",
    "plt.plot(series, label = 'Original')\n",
    "plt.plot(forecast, label = 'Forecast', color= 'red')\n",
    "plt.legend()\n",
    "plt.show()"
   ]
  },
  {
   "cell_type": "code",
   "execution_count": null,
   "id": "6f81e653-20a9-4220-9924-82334349f6f2",
   "metadata": {},
   "outputs": [],
   "source": []
  }
 ],
 "metadata": {
  "kernelspec": {
   "display_name": "Python 3 (ipykernel)",
   "language": "python",
   "name": "python3"
  },
  "language_info": {
   "codemirror_mode": {
    "name": "ipython",
    "version": 3
   },
   "file_extension": ".py",
   "mimetype": "text/x-python",
   "name": "python",
   "nbconvert_exporter": "python",
   "pygments_lexer": "ipython3",
   "version": "3.11.7"
  }
 },
 "nbformat": 4,
 "nbformat_minor": 5
}
